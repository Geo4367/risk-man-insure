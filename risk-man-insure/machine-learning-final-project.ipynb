{
 "cells": [
  {
   "cell_type": "markdown",
   "metadata": {
    "id": "RuTn6XWM8-LC"
   },
   "source": [
    "# Machine Learning Final Project"
   ]
  },
  {
   "cell_type": "markdown",
   "metadata": {},
   "source": [
    "### Installing ncessary libraries"
   ]
  },
  {
   "cell_type": "code",
   "execution_count": 1,
   "metadata": {
    "executionInfo": {
     "elapsed": 6766,
     "status": "ok",
     "timestamp": 1654796897581,
     "user": {
      "displayName": "George vavolil",
      "userId": "10192067806053773221"
     },
     "user_tz": -60
    },
    "id": "xLl0dwmb8-LF"
   },
   "outputs": [],
   "source": [
    "!pip install jovian --upgrade --quiet\n",
    "!pip install opendatasets --quiet\n",
    "!pip install xgboost --quiet\n",
    "!pip install mlxtend --quiet"
   ]
  },
  {
   "cell_type": "markdown",
   "metadata": {},
   "source": [
    "### Importing Necessary modules and libraries"
   ]
  },
  {
   "cell_type": "code",
   "execution_count": 2,
   "metadata": {
    "executionInfo": {
     "elapsed": 4,
     "status": "ok",
     "timestamp": 1654796898524,
     "user": {
      "displayName": "George vavolil",
      "userId": "10192067806053773221"
     },
     "user_tz": -60
    },
    "id": "_GR0EHxB8-LG"
   },
   "outputs": [],
   "source": [
    "import jovian\n",
    "import pandas as pd\n",
    "import numpy as np\n",
    "import matplotlib.pyplot as plt\n",
    "import seaborn as sns\n",
    "import joblib\n",
    "\n",
    "from sklearn.impute import SimpleImputer\n",
    "from sklearn.preprocessing import MinMaxScaler, OneHotEncoder\n",
    "from sklearn.model_selection import train_test_split, GridSearchCV, cross_val_score\n",
    "from sklearn.metrics import mean_squared_error, accuracy_score, roc_auc_score\n",
    "from sklearn.tree import DecisionTreeClassifier\n",
    "from sklearn.ensemble import RandomForestClassifier, GradientBoostingClassifier,VotingClassifier\n",
    "from xgboost import XGBClassifier\n",
    "from sklearn.linear_model import LogisticRegression\n",
    "from mlxtend.classifier import StackingClassifier\n",
    "\n",
    "import warnings\n",
    "warnings.filterwarnings(\"ignore\")"
   ]
  },
  {
   "cell_type": "markdown",
   "metadata": {},
   "source": [
    "### Commiting the file to Jovian"
   ]
  },
  {
   "cell_type": "code",
   "execution_count": 3,
   "metadata": {
    "colab": {
     "base_uri": "https://localhost:8080/",
     "height": 89
    },
    "executionInfo": {
     "elapsed": 3155,
     "status": "ok",
     "timestamp": 1654796903463,
     "user": {
      "displayName": "George vavolil",
      "userId": "10192067806053773221"
     },
     "user_tz": -60
    },
    "id": "Zvcoi4Q78-LI",
    "outputId": "1033e68b-468c-4d7d-d2ed-abe1f85252e8"
   },
   "outputs": [
    {
     "data": {
      "application/javascript": [
       "window.require && require([\"base/js/namespace\"],function(Jupyter){Jupyter.notebook.save_checkpoint()})"
      ],
      "text/plain": [
       "<IPython.core.display.Javascript object>"
      ]
     },
     "metadata": {},
     "output_type": "display_data"
    },
    {
     "name": "stdout",
     "output_type": "stream",
     "text": [
      "[jovian] Updating notebook \"geo4367/machine-learning-final-project\" on https://jovian.ai\u001b[0m\n",
      "[jovian] Committed successfully! https://jovian.ai/geo4367/machine-learning-final-project\u001b[0m\n"
     ]
    },
    {
     "data": {
      "text/plain": [
       "'https://jovian.ai/geo4367/machine-learning-final-project'"
      ]
     },
     "execution_count": 3,
     "metadata": {},
     "output_type": "execute_result"
    }
   ],
   "source": [
    "# Execute this to save new versions of the notebook\n",
    "jovian.commit(project=\"project101\")"
   ]
  },
  {
   "cell_type": "markdown",
   "metadata": {},
   "source": [
    "### Downloading the Insurance File"
   ]
  },
  {
   "cell_type": "code",
   "execution_count": 4,
   "metadata": {
    "colab": {
     "base_uri": "https://localhost:8080/"
    },
    "executionInfo": {
     "elapsed": 11523,
     "status": "ok",
     "timestamp": 1654790150657,
     "user": {
      "displayName": "George vavolil",
      "userId": "10192067806053773221"
     },
     "user_tz": -60
    },
    "id": "rCRfV5LD8-LL",
    "outputId": "41cd6815-d96e-4a51-c817-84522a0b7f7f"
   },
   "outputs": [
    {
     "name": "stdout",
     "output_type": "stream",
     "text": [
      "Please provide your Kaggle credentials to download this dataset. Learn more: http://bit.ly/kaggle-creds\n",
      "Your Kaggle username: georgekuttyantony\n",
      "Your Kaggle Key: ········\n",
      "Downloading prudential-life-insurance-assessment.zip to ./prudential-life-insurance-assessment\n"
     ]
    },
    {
     "name": "stderr",
     "output_type": "stream",
     "text": [
      "100%|██████████| 3.24M/3.24M [00:00<00:00, 64.5MB/s]"
     ]
    },
    {
     "name": "stdout",
     "output_type": "stream",
     "text": [
      "\n",
      "Extracting archive ./prudential-life-insurance-assessment/prudential-life-insurance-assessment.zip to ./prudential-life-insurance-assessment\n"
     ]
    },
    {
     "name": "stderr",
     "output_type": "stream",
     "text": [
      "\n"
     ]
    }
   ],
   "source": [
    "import opendatasets as od\n",
    "od.download('https://www.kaggle.com/competitions/prudential-life-insurance-assessment')\n",
    "\n",
    "# username\t\"georgekuttyantony\"\n",
    "# key\t\"33f55414eeb72f18e1ec7b60a796eccf\""
   ]
  },
  {
   "cell_type": "markdown",
   "metadata": {},
   "source": [
    "### Unziping the files"
   ]
  },
  {
   "cell_type": "code",
   "execution_count": 5,
   "metadata": {
    "executionInfo": {
     "elapsed": 212,
     "status": "ok",
     "timestamp": 1654790167120,
     "user": {
      "displayName": "George vavolil",
      "userId": "10192067806053773221"
     },
     "user_tz": -60
    },
    "id": "YBQ0XBRd8-LN"
   },
   "outputs": [],
   "source": [
    "import zipfile, os\n",
    "working_directory = 'prudential-life-insurance-assessment/'\n",
    "for file in os.listdir(working_directory): \n",
    "    if zipfile.is_zipfile(working_directory+file):\n",
    "        with zipfile.ZipFile(working_directory+file, 'r') as item: \n",
    "            item.extractall()"
   ]
  },
  {
   "cell_type": "markdown",
   "metadata": {},
   "source": [
    "### Loading the files"
   ]
  },
  {
   "cell_type": "code",
   "execution_count": 6,
   "metadata": {
    "executionInfo": {
     "elapsed": 1091,
     "status": "ok",
     "timestamp": 1654790169283,
     "user": {
      "displayName": "George vavolil",
      "userId": "10192067806053773221"
     },
     "user_tz": -60
    },
    "id": "PWbjgEK88-LN"
   },
   "outputs": [],
   "source": [
    "pd.set_option('display.max_columns', None)\n",
    "df = train_df  =pd.read_csv('train.csv', index_col='Id')\n",
    "test_df = pd.read_csv('test.csv')\n",
    "submit = pd.read_csv('sample_submission.csv')"
   ]
  },
  {
   "cell_type": "markdown",
   "metadata": {},
   "source": [
    "### Feature Engineering"
   ]
  },
  {
   "cell_type": "code",
   "execution_count": 7,
   "metadata": {},
   "outputs": [],
   "source": [
    "df['Modified_Response']  = df['Response'].map(lambda x : 0 if x<=7 and x>=0 else 1)\n",
    "cat  = 'Product_Info_1, Product_Info_2, Product_Info_3, Product_Info_5, Product_Info_6, Product_Info_7, Employment_Info_2, Employment_Info_3, Employment_Info_5, InsuredInfo_1, InsuredInfo_2, InsuredInfo_3, InsuredInfo_4, InsuredInfo_5, InsuredInfo_6, InsuredInfo_7, Insurance_History_1, Insurance_History_2, Insurance_History_3, Insurance_History_4, Insurance_History_7, Insurance_History_8, Insurance_History_9, Family_Hist_1, Medical_History_2, Medical_History_3, Medical_History_4, Medical_History_5, Medical_History_6, Medical_History_7, Medical_History_8, Medical_History_9, Medical_History_11, Medical_History_12, Medical_History_13, Medical_History_14, Medical_History_16, Medical_History_17, Medical_History_18, Medical_History_19, Medical_History_20, Medical_History_21, Medical_History_22, Medical_History_23, Medical_History_25, Medical_History_26, Medical_History_27, Medical_History_28, Medical_History_29, Medical_History_30, Medical_History_31, Medical_History_33, Medical_History_34, Medical_History_35, Medical_History_36, Medical_History_37, Medical_History_38, Medical_History_39, Medical_History_40, Medical_History_41'\n",
    "categorical = cat.split(', ')\n",
    "cont = 'Product_Info_4, Ins_Age, Ht, Wt, BMI, Employment_Info_1, Employment_Info_4, Employment_Info_6, Insurance_History_5, Family_Hist_2, Family_Hist_3, Family_Hist_4, Family_Hist_5'\n",
    "continuous = cont.split(', ')\n",
    "disc = 'Medical_History_1, Medical_History_10, Medical_History_15, Medical_History_24, Medical_History_32'\n",
    "discrete = disc.split(', ')\n",
    "dummy = []\n",
    "for i in range(1, 49):\n",
    "    dummy.append('Medical_Keyword_'+str(i))\n",
    "\n",
    "df_new = df[categorical+ discrete+ continuous+ dummy + ['Modified_Response']]\n",
    "corr = df_new.corr()\n",
    "corr_greater_than_80 = corr[corr>=.8]\n",
    "is_null_count = df_new.isnull().sum()/len(df_new)\n",
    "\n",
    "null_col = is_null_count[is_null_count>.4].sort_values(ascending = False).index.tolist()\n",
    "df_new = df_new.drop(null_col, axis = 1)\n",
    "test_cols = list(df_new.columns)\n",
    "\n",
    "encoder = OneHotEncoder(sparse=False, handle_unknown='ignore').fit(df_new[['Product_Info_2']])\n",
    "encoded_cols = list(encoder.get_feature_names_out(['Product_Info_2']))\n",
    "df_new[encoded_cols] = encoder.transform(df_new[['Product_Info_2']])\n",
    "df_new.drop('Product_Info_2', axis = 1, inplace = True)\n",
    "numeric_cols = df_new.select_dtypes(include=np.number).columns.tolist()\n",
    "categorical_cols = df_new.select_dtypes(include='object').columns.tolist()\n",
    "imputer = SimpleImputer().fit(df_new[numeric_cols])\n",
    "df_new[numeric_cols] = imputer.transform(df_new[numeric_cols])"
   ]
  },
  {
   "cell_type": "markdown",
   "metadata": {
    "id": "XhjtkOzf8-LQ"
   },
   "source": [
    "Since many of the continuous variable columns are removed, we need to make sure that those are removed from the continuous\n",
    "list "
   ]
  },
  {
   "cell_type": "code",
   "execution_count": 8,
   "metadata": {
    "colab": {
     "base_uri": "https://localhost:8080/"
    },
    "executionInfo": {
     "elapsed": 215,
     "status": "ok",
     "timestamp": 1654790174207,
     "user": {
      "displayName": "George vavolil",
      "userId": "10192067806053773221"
     },
     "user_tz": -60
    },
    "id": "UrljKiTW8-LR",
    "outputId": "8fa93995-a77b-493c-de5e-dd64dbd7e88a"
   },
   "outputs": [
    {
     "data": {
      "text/plain": [
       "(44535, 14846)"
      ]
     },
     "execution_count": 8,
     "metadata": {},
     "output_type": "execute_result"
    }
   ],
   "source": [
    "new_cond = ['Product_Info_4',\n",
    " 'Ins_Age',\n",
    " 'Ht',\n",
    " 'Wt',\n",
    " 'BMI',\n",
    " 'Employment_Info_1',\n",
    " 'Employment_Info_4',\n",
    " 'Employment_Info_6',\n",
    " 'Family_Hist_4']\n",
    "\n",
    "scaler = MinMaxScaler().fit(df_new[new_cond])\n",
    "df_new[new_cond] = scaler.transform(df_new[new_cond])\n",
    "\n",
    "df_new[new_cond].describe()\n",
    "\n",
    "inputs_df= df_new.drop('Modified_Response',axis=1).copy()\n",
    "targets = df_new['Modified_Response'].copy()\n",
    "\n",
    "# Create training and validation sets\n",
    "train_inputs, val_inputs, train_targets, val_targets = train_test_split(\n",
    "    inputs_df, targets, test_size=0.25, random_state=42)\n",
    "\n",
    "train_inputs.shape, val_inputs.shape\n",
    "len(train_targets), len(val_targets)"
   ]
  },
  {
   "cell_type": "markdown",
   "metadata": {},
   "source": [
    "### Test DataFrame "
   ]
  },
  {
   "cell_type": "markdown",
   "metadata": {},
   "source": [
    "#### Manipulating the test data"
   ]
  },
  {
   "cell_type": "code",
   "execution_count": 9,
   "metadata": {},
   "outputs": [],
   "source": [
    "test_cols.remove('Modified_Response')\n",
    "test = test_df[test_cols]\n",
    "\n",
    "encoder = OneHotEncoder(sparse=False, handle_unknown='ignore').fit(test[['Product_Info_2']])\n",
    "encoded_cols = list(encoder.get_feature_names_out(['Product_Info_2']))\n",
    "\n",
    "encoder.transform(test[['Product_Info_2']]).copy()\n",
    "test[encoded_cols] = encoder.transform(test[['Product_Info_2']])\n",
    "test.drop('Product_Info_2', axis = 1, inplace = True)\n",
    "numeric_cols.remove('Modified_Response')\n",
    "\n",
    "imputer = SimpleImputer().fit(test[numeric_cols])\n",
    "test[numeric_cols] = imputer.transform(test[numeric_cols])\n",
    "\n",
    "scaler = MinMaxScaler().fit(test[new_cond])\n",
    "test[new_cond] = scaler.transform(test[new_cond])"
   ]
  },
  {
   "cell_type": "markdown",
   "metadata": {
    "id": "JgNSlc_38-LS"
   },
   "source": [
    "# Decision Tree implementation"
   ]
  },
  {
   "cell_type": "markdown",
   "metadata": {
    "id": "fnI_k-P58-Lh"
   },
   "source": [
    "### Hyperparameter tuning"
   ]
  },
  {
   "cell_type": "code",
   "execution_count": 35,
   "metadata": {
    "id": "IPQ1UgaG8-Li"
   },
   "outputs": [],
   "source": [
    "def max_depth_error(md):\n",
    "    model = DecisionTreeClassifier(max_depth=md, random_state=42)\n",
    "    model.fit(train_inputs, train_targets)\n",
    "    train_err = 1 - model.score(train_inputs, train_targets)\n",
    "    val_err = 1 - model.score(val_inputs, val_targets)\n",
    "    return {'Max Depth': md, 'Training Error': train_err, 'Validation Error': val_err}\n",
    "\n",
    "errors_df = pd.DataFrame([max_depth_error(md) for md in range(1, 21)])"
   ]
  },
  {
   "cell_type": "markdown",
   "metadata": {},
   "source": [
    "The above code will help us to visualize the optimal max_depth, where both training and validation error are the lowest possible"
   ]
  },
  {
   "cell_type": "code",
   "execution_count": 36,
   "metadata": {
    "id": "Nbs03SFW8-Li"
   },
   "outputs": [
    {
     "data": {
      "text/html": [
       "<div>\n",
       "<style scoped>\n",
       "    .dataframe tbody tr th:only-of-type {\n",
       "        vertical-align: middle;\n",
       "    }\n",
       "\n",
       "    .dataframe tbody tr th {\n",
       "        vertical-align: top;\n",
       "    }\n",
       "\n",
       "    .dataframe thead th {\n",
       "        text-align: right;\n",
       "    }\n",
       "</style>\n",
       "<table border=\"1\" class=\"dataframe\">\n",
       "  <thead>\n",
       "    <tr style=\"text-align: right;\">\n",
       "      <th></th>\n",
       "      <th>Max Depth</th>\n",
       "      <th>Training Error</th>\n",
       "      <th>Validation Error</th>\n",
       "    </tr>\n",
       "  </thead>\n",
       "  <tbody>\n",
       "    <tr>\n",
       "      <th>0</th>\n",
       "      <td>1</td>\n",
       "      <td>0.329381</td>\n",
       "      <td>0.324667</td>\n",
       "    </tr>\n",
       "    <tr>\n",
       "      <th>1</th>\n",
       "      <td>2</td>\n",
       "      <td>0.274279</td>\n",
       "      <td>0.270039</td>\n",
       "    </tr>\n",
       "    <tr>\n",
       "      <th>2</th>\n",
       "      <td>3</td>\n",
       "      <td>0.206557</td>\n",
       "      <td>0.201064</td>\n",
       "    </tr>\n",
       "    <tr>\n",
       "      <th>3</th>\n",
       "      <td>4</td>\n",
       "      <td>0.197934</td>\n",
       "      <td>0.192375</td>\n",
       "    </tr>\n",
       "    <tr>\n",
       "      <th>4</th>\n",
       "      <td>5</td>\n",
       "      <td>0.191827</td>\n",
       "      <td>0.186043</td>\n",
       "    </tr>\n",
       "    <tr>\n",
       "      <th>5</th>\n",
       "      <td>6</td>\n",
       "      <td>0.191310</td>\n",
       "      <td>0.186178</td>\n",
       "    </tr>\n",
       "    <tr>\n",
       "      <th>6</th>\n",
       "      <td>7</td>\n",
       "      <td>0.185023</td>\n",
       "      <td>0.184561</td>\n",
       "    </tr>\n",
       "    <tr>\n",
       "      <th>7</th>\n",
       "      <td>8</td>\n",
       "      <td>0.179769</td>\n",
       "      <td>0.186919</td>\n",
       "    </tr>\n",
       "    <tr>\n",
       "      <th>8</th>\n",
       "      <td>9</td>\n",
       "      <td>0.174020</td>\n",
       "      <td>0.184157</td>\n",
       "    </tr>\n",
       "    <tr>\n",
       "      <th>9</th>\n",
       "      <td>10</td>\n",
       "      <td>0.166296</td>\n",
       "      <td>0.183484</td>\n",
       "    </tr>\n",
       "    <tr>\n",
       "      <th>10</th>\n",
       "      <td>11</td>\n",
       "      <td>0.158729</td>\n",
       "      <td>0.185639</td>\n",
       "    </tr>\n",
       "    <tr>\n",
       "      <th>11</th>\n",
       "      <td>12</td>\n",
       "      <td>0.150533</td>\n",
       "      <td>0.188536</td>\n",
       "    </tr>\n",
       "    <tr>\n",
       "      <th>12</th>\n",
       "      <td>13</td>\n",
       "      <td>0.142068</td>\n",
       "      <td>0.191028</td>\n",
       "    </tr>\n",
       "    <tr>\n",
       "      <th>13</th>\n",
       "      <td>14</td>\n",
       "      <td>0.131380</td>\n",
       "      <td>0.192510</td>\n",
       "    </tr>\n",
       "    <tr>\n",
       "      <th>14</th>\n",
       "      <td>15</td>\n",
       "      <td>0.120624</td>\n",
       "      <td>0.195945</td>\n",
       "    </tr>\n",
       "    <tr>\n",
       "      <th>15</th>\n",
       "      <td>16</td>\n",
       "      <td>0.109464</td>\n",
       "      <td>0.199717</td>\n",
       "    </tr>\n",
       "    <tr>\n",
       "      <th>16</th>\n",
       "      <td>17</td>\n",
       "      <td>0.099383</td>\n",
       "      <td>0.199717</td>\n",
       "    </tr>\n",
       "    <tr>\n",
       "      <th>17</th>\n",
       "      <td>18</td>\n",
       "      <td>0.089795</td>\n",
       "      <td>0.203961</td>\n",
       "    </tr>\n",
       "    <tr>\n",
       "      <th>18</th>\n",
       "      <td>19</td>\n",
       "      <td>0.079151</td>\n",
       "      <td>0.208810</td>\n",
       "    </tr>\n",
       "    <tr>\n",
       "      <th>19</th>\n",
       "      <td>20</td>\n",
       "      <td>0.069810</td>\n",
       "      <td>0.208002</td>\n",
       "    </tr>\n",
       "  </tbody>\n",
       "</table>\n",
       "</div>"
      ],
      "text/plain": [
       "    Max Depth  Training Error  Validation Error\n",
       "0           1        0.329381          0.324667\n",
       "1           2        0.274279          0.270039\n",
       "2           3        0.206557          0.201064\n",
       "3           4        0.197934          0.192375\n",
       "4           5        0.191827          0.186043\n",
       "5           6        0.191310          0.186178\n",
       "6           7        0.185023          0.184561\n",
       "7           8        0.179769          0.186919\n",
       "8           9        0.174020          0.184157\n",
       "9          10        0.166296          0.183484\n",
       "10         11        0.158729          0.185639\n",
       "11         12        0.150533          0.188536\n",
       "12         13        0.142068          0.191028\n",
       "13         14        0.131380          0.192510\n",
       "14         15        0.120624          0.195945\n",
       "15         16        0.109464          0.199717\n",
       "16         17        0.099383          0.199717\n",
       "17         18        0.089795          0.203961\n",
       "18         19        0.079151          0.208810\n",
       "19         20        0.069810          0.208002"
      ]
     },
     "execution_count": 36,
     "metadata": {},
     "output_type": "execute_result"
    }
   ],
   "source": [
    "errors_df"
   ]
  },
  {
   "cell_type": "code",
   "execution_count": 37,
   "metadata": {
    "id": "txMsg_W68-Li"
   },
   "outputs": [
    {
     "data": {
      "image/png": "[encoded data removed]",
      "text/plain": [
       "<Figure size 432x288 with 1 Axes>"
      ]
     },
     "metadata": {
      "needs_background": "light"
     },
     "output_type": "display_data"
    }
   ],
   "source": [
    "plt.figure()\n",
    "plt.plot(errors_df['Max Depth'], errors_df['Training Error'])\n",
    "plt.plot(errors_df['Max Depth'], errors_df['Validation Error'])\n",
    "plt.title('Training vs. Validation Error')\n",
    "plt.xticks(range(0,21, 2))\n",
    "plt.xlabel('Max. Depth')\n",
    "plt.ylabel('Prediction Error (1 - Accuracy)')\n",
    "plt.legend(['Training', 'Validation']);"
   ]
  },
  {
   "cell_type": "markdown",
   "metadata": {},
   "source": [
    "This shows that a max_depth of 7 gives the lowest validation and training errors. They lie closer to each other as well."
   ]
  },
  {
   "cell_type": "markdown",
   "metadata": {
    "id": "hKyT1sqO8-Lk"
   },
   "source": [
    "### Grid-Search "
   ]
  },
  {
   "cell_type": "markdown",
   "metadata": {},
   "source": [
    "Grid search will try every possible combinations of hyperparameters and comes out with that optimal combination where training score is the highest"
   ]
  },
  {
   "cell_type": "code",
   "execution_count": 25,
   "metadata": {
    "id": "aJlnRFn38-Lm"
   },
   "outputs": [
    {
     "data": {
      "text/html": [
       "<style>#sk-container-id-2 {color: black;background-color: white;}#sk-container-id-2 pre{padding: 0;}#sk-container-id-2 div.sk-toggleable {background-color: white;}#sk-container-id-2 label.sk-toggleable__label {cursor: pointer;display: block;width: 100%;margin-bottom: 0;padding: 0.3em;box-sizing: border-box;text-align: center;}#sk-container-id-2 label.sk-toggleable__label-arrow:before {content: \"▸\";float: left;margin-right: 0.25em;color: #696969;}#sk-container-id-2 label.sk-toggleable__label-arrow:hover:before {color: black;}#sk-container-id-2 div.sk-estimator:hover label.sk-toggleable__label-arrow:before {color: black;}#sk-container-id-2 div.sk-toggleable__content {max-height: 0;max-width: 0;overflow: hidden;text-align: left;background-color: #f0f8ff;}#sk-container-id-2 div.sk-toggleable__content pre {margin: 0.2em;color: black;border-radius: 0.25em;background-color: #f0f8ff;}#sk-container-id-2 input.sk-toggleable__control:checked~div.sk-toggleable__content {max-height: 200px;max-width: 100%;overflow: auto;}#sk-container-id-2 input.sk-toggleable__control:checked~label.sk-toggleable__label-arrow:before {content: \"▾\";}#sk-container-id-2 div.sk-estimator input.sk-toggleable__control:checked~label.sk-toggleable__label {background-color: #d4ebff;}#sk-container-id-2 div.sk-label input.sk-toggleable__control:checked~label.sk-toggleable__label {background-color: #d4ebff;}#sk-container-id-2 input.sk-hidden--visually {border: 0;clip: rect(1px 1px 1px 1px);clip: rect(1px, 1px, 1px, 1px);height: 1px;margin: -1px;overflow: hidden;padding: 0;position: absolute;width: 1px;}#sk-container-id-2 div.sk-estimator {font-family: monospace;background-color: #f0f8ff;border: 1px dotted black;border-radius: 0.25em;box-sizing: border-box;margin-bottom: 0.5em;}#sk-container-id-2 div.sk-estimator:hover {background-color: #d4ebff;}#sk-container-id-2 div.sk-parallel-item::after {content: \"\";width: 100%;border-bottom: 1px solid gray;flex-grow: 1;}#sk-container-id-2 div.sk-label:hover label.sk-toggleable__label {background-color: #d4ebff;}#sk-container-id-2 div.sk-serial::before {content: \"\";position: absolute;border-left: 1px solid gray;box-sizing: border-box;top: 0;bottom: 0;left: 50%;z-index: 0;}#sk-container-id-2 div.sk-serial {display: flex;flex-direction: column;align-items: center;background-color: white;padding-right: 0.2em;padding-left: 0.2em;position: relative;}#sk-container-id-2 div.sk-item {position: relative;z-index: 1;}#sk-container-id-2 div.sk-parallel {display: flex;align-items: stretch;justify-content: center;background-color: white;position: relative;}#sk-container-id-2 div.sk-item::before, #sk-container-id-2 div.sk-parallel-item::before {content: \"\";position: absolute;border-left: 1px solid gray;box-sizing: border-box;top: 0;bottom: 0;left: 50%;z-index: -1;}#sk-container-id-2 div.sk-parallel-item {display: flex;flex-direction: column;z-index: 1;position: relative;background-color: white;}#sk-container-id-2 div.sk-parallel-item:first-child::after {align-self: flex-end;width: 50%;}#sk-container-id-2 div.sk-parallel-item:last-child::after {align-self: flex-start;width: 50%;}#sk-container-id-2 div.sk-parallel-item:only-child::after {width: 0;}#sk-container-id-2 div.sk-dashed-wrapped {border: 1px dashed gray;margin: 0 0.4em 0.5em 0.4em;box-sizing: border-box;padding-bottom: 0.4em;background-color: white;}#sk-container-id-2 div.sk-label label {font-family: monospace;font-weight: bold;display: inline-block;line-height: 1.2em;}#sk-container-id-2 div.sk-label-container {text-align: center;}#sk-container-id-2 div.sk-container {/* jupyter's `normalize.less` sets `[hidden] { display: none; }` but bootstrap.min.css set `[hidden] { display: none !important; }` so we also need the `!important` here to be able to override the default hidden behavior on the sphinx rendered scikit-learn.org. See: https://github.com/scikit-learn/scikit-learn/issues/21755 */display: inline-block !important;position: relative;}#sk-container-id-2 div.sk-text-repr-fallback {display: none;}</style><div id=\"sk-container-id-2\" class=\"sk-top-container\"><div class=\"sk-text-repr-fallback\"><pre>GridSearchCV(estimator=DecisionTreeClassifier(random_state=42), n_jobs=-1,\n",
       "             param_grid={&#x27;max_depth&#x27;: [5, 6, 7, 8],\n",
       "                         &#x27;min_samples_leaf&#x27;: [2, 3, 5, 7],\n",
       "                         &#x27;min_samples_split&#x27;: [2, 3, 5, 7]})</pre><b>In a Jupyter environment, please rerun this cell to show the HTML representation or trust the notebook. <br />On GitHub, the HTML representation is unable to render, please try loading this page with nbviewer.org.</b></div><div class=\"sk-container\" hidden><div class=\"sk-item sk-dashed-wrapped\"><div class=\"sk-label-container\"><div class=\"sk-label sk-toggleable\"><input class=\"sk-toggleable__control sk-hidden--visually\" id=\"sk-estimator-id-2\" type=\"checkbox\" ><label for=\"sk-estimator-id-2\" class=\"sk-toggleable__label sk-toggleable__label-arrow\">GridSearchCV</label><div class=\"sk-toggleable__content\"><pre>GridSearchCV(estimator=DecisionTreeClassifier(random_state=42), n_jobs=-1,\n",
       "             param_grid={&#x27;max_depth&#x27;: [5, 6, 7, 8],\n",
       "                         &#x27;min_samples_leaf&#x27;: [2, 3, 5, 7],\n",
       "                         &#x27;min_samples_split&#x27;: [2, 3, 5, 7]})</pre></div></div></div><div class=\"sk-parallel\"><div class=\"sk-parallel-item\"><div class=\"sk-item\"><div class=\"sk-label-container\"><div class=\"sk-label sk-toggleable\"><input class=\"sk-toggleable__control sk-hidden--visually\" id=\"sk-estimator-id-3\" type=\"checkbox\" ><label for=\"sk-estimator-id-3\" class=\"sk-toggleable__label sk-toggleable__label-arrow\">estimator: DecisionTreeClassifier</label><div class=\"sk-toggleable__content\"><pre>DecisionTreeClassifier(random_state=42)</pre></div></div></div><div class=\"sk-serial\"><div class=\"sk-item\"><div class=\"sk-estimator sk-toggleable\"><input class=\"sk-toggleable__control sk-hidden--visually\" id=\"sk-estimator-id-4\" type=\"checkbox\" ><label for=\"sk-estimator-id-4\" class=\"sk-toggleable__label sk-toggleable__label-arrow\">DecisionTreeClassifier</label><div class=\"sk-toggleable__content\"><pre>DecisionTreeClassifier(random_state=42)</pre></div></div></div></div></div></div></div></div></div></div>"
      ],
      "text/plain": [
       "GridSearchCV(estimator=DecisionTreeClassifier(random_state=42), n_jobs=-1,\n",
       "             param_grid={'max_depth': [5, 6, 7, 8],\n",
       "                         'min_samples_leaf': [2, 3, 5, 7],\n",
       "                         'min_samples_split': [2, 3, 5, 7]})"
      ]
     },
     "execution_count": 25,
     "metadata": {},
     "output_type": "execute_result"
    }
   ],
   "source": [
    "clf = GridSearchCV(DecisionTreeClassifier(random_state=42), param_grid={'min_samples_split' : [2, 3, 5, 7], 'min_samples_leaf' : [2, 3, 5, 7], 'max_depth' : [5, 6, 7, 8]}, return_train_score = False, n_jobs = -1)\n",
    "clf.fit(train_inputs, train_targets)"
   ]
  },
  {
   "cell_type": "markdown",
   "metadata": {},
   "source": [
    "### Best Tree\n",
    "is the best tree that came out from gridsearch"
   ]
  },
  {
   "cell_type": "code",
   "execution_count": 26,
   "metadata": {
    "id": "wx2RhA7I8-Ln"
   },
   "outputs": [],
   "source": [
    "best_tree = clf.best_estimator_"
   ]
  },
  {
   "cell_type": "code",
   "execution_count": 27,
   "metadata": {
    "id": "_Kxivn-08-Ln"
   },
   "outputs": [
    {
     "data": {
      "text/plain": [
       "0.8098349612664197"
      ]
     },
     "execution_count": 27,
     "metadata": {},
     "output_type": "execute_result"
    }
   ],
   "source": [
    "clf.best_score_"
   ]
  },
  {
   "cell_type": "code",
   "execution_count": 28,
   "metadata": {
    "id": "cgErSch58-Lo"
   },
   "outputs": [
    {
     "data": {
      "text/plain": [
       "{'max_depth': 8, 'min_samples_leaf': 7, 'min_samples_split': 2}"
      ]
     },
     "execution_count": 28,
     "metadata": {},
     "output_type": "execute_result"
    }
   ],
   "source": [
    "clf.best_params_"
   ]
  },
  {
   "cell_type": "code",
   "execution_count": 29,
   "metadata": {
    "id": "t4fXm8bM8-Lo"
   },
   "outputs": [
    {
     "data": {
      "text/html": [
       "<div>\n",
       "<style scoped>\n",
       "    .dataframe tbody tr th:only-of-type {\n",
       "        vertical-align: middle;\n",
       "    }\n",
       "\n",
       "    .dataframe tbody tr th {\n",
       "        vertical-align: top;\n",
       "    }\n",
       "\n",
       "    .dataframe thead th {\n",
       "        text-align: right;\n",
       "    }\n",
       "</style>\n",
       "<table border=\"1\" class=\"dataframe\">\n",
       "  <thead>\n",
       "    <tr style=\"text-align: right;\">\n",
       "      <th></th>\n",
       "      <th>param_min_samples_leaf</th>\n",
       "      <th>param_min_samples_split</th>\n",
       "      <th>param_max_depth</th>\n",
       "      <th>mean_test_score</th>\n",
       "    </tr>\n",
       "  </thead>\n",
       "  <tbody>\n",
       "    <tr>\n",
       "      <th>63</th>\n",
       "      <td>7</td>\n",
       "      <td>7</td>\n",
       "      <td>8</td>\n",
       "      <td>0.809835</td>\n",
       "    </tr>\n",
       "    <tr>\n",
       "      <th>60</th>\n",
       "      <td>7</td>\n",
       "      <td>2</td>\n",
       "      <td>8</td>\n",
       "      <td>0.809835</td>\n",
       "    </tr>\n",
       "    <tr>\n",
       "      <th>62</th>\n",
       "      <td>7</td>\n",
       "      <td>5</td>\n",
       "      <td>8</td>\n",
       "      <td>0.809835</td>\n",
       "    </tr>\n",
       "    <tr>\n",
       "      <th>61</th>\n",
       "      <td>7</td>\n",
       "      <td>3</td>\n",
       "      <td>8</td>\n",
       "      <td>0.809835</td>\n",
       "    </tr>\n",
       "    <tr>\n",
       "      <th>51</th>\n",
       "      <td>2</td>\n",
       "      <td>7</td>\n",
       "      <td>8</td>\n",
       "      <td>0.809655</td>\n",
       "    </tr>\n",
       "  </tbody>\n",
       "</table>\n",
       "</div>"
      ],
      "text/plain": [
       "   param_min_samples_leaf param_min_samples_split param_max_depth  \\\n",
       "63                      7                       7               8   \n",
       "60                      7                       2               8   \n",
       "62                      7                       5               8   \n",
       "61                      7                       3               8   \n",
       "51                      2                       7               8   \n",
       "\n",
       "    mean_test_score  \n",
       "63         0.809835  \n",
       "60         0.809835  \n",
       "62         0.809835  \n",
       "61         0.809835  \n",
       "51         0.809655  "
      ]
     },
     "execution_count": 29,
     "metadata": {},
     "output_type": "execute_result"
    }
   ],
   "source": [
    "df = pd.DataFrame(clf.cv_results_)\n",
    "df[['param_min_samples_leaf', 'param_min_samples_split', 'param_max_depth', 'mean_test_score']].sort_values('mean_test_score', ascending= False).head(5)"
   ]
  },
  {
   "cell_type": "code",
   "execution_count": 30,
   "metadata": {},
   "outputs": [
    {
     "data": {
      "text/plain": [
       "(0.8191759290445717, 0.813889263101172)"
      ]
     },
     "execution_count": 30,
     "metadata": {},
     "output_type": "execute_result"
    }
   ],
   "source": [
    "best_tree.fit(train_inputs, train_targets)\n",
    "best_tree.score(train_inputs, train_targets), best_tree.score(val_inputs, val_targets)"
   ]
  },
  {
   "cell_type": "code",
   "execution_count": 31,
   "metadata": {},
   "outputs": [
    {
     "data": {
      "text/html": [
       "<div>\n",
       "<style scoped>\n",
       "    .dataframe tbody tr th:only-of-type {\n",
       "        vertical-align: middle;\n",
       "    }\n",
       "\n",
       "    .dataframe tbody tr th {\n",
       "        vertical-align: top;\n",
       "    }\n",
       "\n",
       "    .dataframe thead th {\n",
       "        text-align: right;\n",
       "    }\n",
       "</style>\n",
       "<table border=\"1\" class=\"dataframe\">\n",
       "  <thead>\n",
       "    <tr style=\"text-align: right;\">\n",
       "      <th></th>\n",
       "      <th>feature</th>\n",
       "      <th>importance</th>\n",
       "    </tr>\n",
       "  </thead>\n",
       "  <tbody>\n",
       "    <tr>\n",
       "      <th>64</th>\n",
       "      <td>BMI</td>\n",
       "      <td>0.436558</td>\n",
       "    </tr>\n",
       "    <tr>\n",
       "      <th>42</th>\n",
       "      <td>Medical_History_23</td>\n",
       "      <td>0.191587</td>\n",
       "    </tr>\n",
       "    <tr>\n",
       "      <th>25</th>\n",
       "      <td>Medical_History_4</td>\n",
       "      <td>0.172192</td>\n",
       "    </tr>\n",
       "    <tr>\n",
       "      <th>60</th>\n",
       "      <td>Product_Info_4</td>\n",
       "      <td>0.053386</td>\n",
       "    </tr>\n",
       "    <tr>\n",
       "      <th>71</th>\n",
       "      <td>Medical_Keyword_3</td>\n",
       "      <td>0.029622</td>\n",
       "    </tr>\n",
       "    <tr>\n",
       "      <th>63</th>\n",
       "      <td>Wt</td>\n",
       "      <td>0.028254</td>\n",
       "    </tr>\n",
       "    <tr>\n",
       "      <th>61</th>\n",
       "      <td>Ins_Age</td>\n",
       "      <td>0.017781</td>\n",
       "    </tr>\n",
       "    <tr>\n",
       "      <th>48</th>\n",
       "      <td>Medical_History_30</td>\n",
       "      <td>0.016318</td>\n",
       "    </tr>\n",
       "    <tr>\n",
       "      <th>83</th>\n",
       "      <td>Medical_Keyword_15</td>\n",
       "      <td>0.013910</td>\n",
       "    </tr>\n",
       "    <tr>\n",
       "      <th>13</th>\n",
       "      <td>InsuredInfo_6</td>\n",
       "      <td>0.008559</td>\n",
       "    </tr>\n",
       "  </tbody>\n",
       "</table>\n",
       "</div>"
      ],
      "text/plain": [
       "               feature  importance\n",
       "64                 BMI    0.436558\n",
       "42  Medical_History_23    0.191587\n",
       "25   Medical_History_4    0.172192\n",
       "60      Product_Info_4    0.053386\n",
       "71   Medical_Keyword_3    0.029622\n",
       "63                  Wt    0.028254\n",
       "61             Ins_Age    0.017781\n",
       "48  Medical_History_30    0.016318\n",
       "83  Medical_Keyword_15    0.013910\n",
       "13       InsuredInfo_6    0.008559"
      ]
     },
     "execution_count": 31,
     "metadata": {},
     "output_type": "execute_result"
    }
   ],
   "source": [
    "tree_importances = best_tree.feature_importances_\n",
    "\n",
    "tree_importance_df = pd.DataFrame({\n",
    "    'feature': train_inputs.columns,\n",
    "    'importance': tree_importances\n",
    "}).sort_values('importance', ascending=False)\n",
    "\n",
    "tree_importance_df.head(10)"
   ]
  },
  {
   "cell_type": "code",
   "execution_count": 32,
   "metadata": {},
   "outputs": [
    {
     "data": {
      "image/png": "[encoded data removed]",
      "text/plain": [
       "<Figure size 432x288 with 1 Axes>"
      ]
     },
     "metadata": {
      "needs_background": "light"
     },
     "output_type": "display_data"
    }
   ],
   "source": [
    "plt.title('Decision Tree Feature Importance')\n",
    "sns.barplot(data=tree_importance_df.head(10), x='importance', y='feature');"
   ]
  },
  {
   "cell_type": "code",
   "execution_count": 33,
   "metadata": {
    "collapsed": true
   },
   "outputs": [
    {
     "data": {
      "image/png": "[encoded data removed]",
      "text/plain": [
       "<Figure size 2160x1080 with 1 Axes>"
      ]
     },
     "metadata": {
      "needs_background": "light"
     },
     "output_type": "display_data"
    }
   ],
   "source": [
    "import matplotlib.pyplot as plt\n",
    "from sklearn.tree import plot_tree, export_text\n",
    "import seaborn as sns\n",
    "sns.set_style('darkgrid')\n",
    "%matplotlib inline\n",
    "plt.figure(figsize=(30,15))\n",
    "\n",
    "# Visualize the tree graphically using plot_tree\n",
    "plot_tree(best_tree, max_depth = 2, feature_names = train_inputs.columns, rounded = True);"
   ]
  },
  {
   "cell_type": "code",
   "execution_count": 34,
   "metadata": {
    "collapsed": true
   },
   "outputs": [
    {
     "name": "stdout",
     "output_type": "stream",
     "text": [
      "|--- BMI <= 0.49\n",
      "|   |--- Medical_History_23 <= 2.00\n",
      "|   |   |--- Medical_Keyword_15 <= 0.50\n",
      "|   |   |   |--- Medical_Keyword_35 <= 0.50\n",
      "|   |   |   |   |--- Medical_History_4 <= 1.50\n",
      "|   |   |   |   |   |--- Medical_History_39 <= 2.00\n",
      "|   |   |   |   |   |   |--- Medical_Keyword_33 <= 0.50\n",
      "|   |   |   |   |   |   |   |--- class: 0.0\n",
      "|   |   |   |   |   |   |--- Medical_Keyword_33 >  0.50\n",
      "|   |   |   |   |   |   |   |--- class: 0.0\n",
      "|   |   |   |   |   |--- Medical_History_39 >  2.00\n",
      "|   |   |   |   |   |   |--- Product_Info_2_D4 <= 0.50\n",
      "|   |   |   |   |   |   |   |--- truncated branch of depth 2\n",
      "|   |   |   |   |   |   |--- Product_Info_2_D4 >  0.50\n",
      "|   |   |   |   |   |   |   |--- truncated branch of depth 2\n",
      "|   |   |   |   |--- Medical_History_4 >  1.50\n",
      "|   |   |   |   |   |--- Ins_Age <= 0.47\n",
      "|   |   |   |   |   |   |--- Wt <= 0.25\n",
      "|   |   |   |   |   |   |   |--- truncated branch of depth 2\n",
      "|   |   |   |   |   |   |--- Wt >  0.25\n",
      "|   |   |   |   |   |   |   |--- truncated branch of depth 2\n",
      "|   |   |   |   |   |--- Ins_Age >  0.47\n",
      "|   |   |   |   |   |   |--- Medical_Keyword_25 <= 0.50\n",
      "|   |   |   |   |   |   |   |--- truncated branch of depth 2\n",
      "|   |   |   |   |   |   |--- Medical_Keyword_25 >  0.50\n",
      "|   |   |   |   |   |   |   |--- truncated branch of depth 2\n",
      "|   |   |   |--- Medical_Keyword_35 >  0.50\n",
      "|   |   |   |   |--- Ins_Age <= 0.20\n",
      "|   |   |   |   |   |--- class: 0.0\n",
      "|   |   |   |   |--- Ins_Age >  0.20\n",
      "|   |   |   |   |   |--- Product_Info_4 <= 0.32\n",
      "|   |   |   |   |   |   |--- class: 0.0\n",
      "|   |   |   |   |   |--- Product_Info_4 >  0.32\n",
      "|   |   |   |   |   |   |--- Wt <= 0.21\n",
      "|   |   |   |   |   |   |   |--- class: 0.0\n",
      "|   |   |   |   |   |   |--- Wt >  0.21\n",
      "|   |   |   |   |   |   |   |--- truncated branch of depth 2\n",
      "|   |   |--- Medical_Keyword_15 >  0.50\n",
      "|   |   |   |--- Ins_Age <= 0.29\n",
      "|   |   |   |   |--- Wt <= 0.28\n",
      "|   |   |   |   |   |--- Product_Info_4 <= 0.15\n",
      "|   |   |   |   |   |   |--- Ins_Age <= 0.12\n",
      "|   |   |   |   |   |   |   |--- class: 0.\n"
     ]
    }
   ],
   "source": [
    "tree_text = export_text(best_tree, feature_names = list(train_inputs.columns), max_depth = 6)\n",
    "print(tree_text[:2000])"
   ]
  },
  {
   "cell_type": "markdown",
   "metadata": {
    "id": "6CdbEck-8-Lr"
   },
   "source": [
    "# Random Forest Implementation"
   ]
  },
  {
   "cell_type": "markdown",
   "metadata": {
    "id": "7rXtUyyU8-L6"
   },
   "source": [
    "### Initializing a Grid Search : Producing a optimized model  running all  combinations of parameters specified"
   ]
  },
  {
   "cell_type": "code",
   "execution_count": 39,
   "metadata": {
    "id": "5NN1LGpq8-L7"
   },
   "outputs": [
    {
     "data": {
      "text/html": [
       "<style>#sk-container-id-3 {color: black;background-color: white;}#sk-container-id-3 pre{padding: 0;}#sk-container-id-3 div.sk-toggleable {background-color: white;}#sk-container-id-3 label.sk-toggleable__label {cursor: pointer;display: block;width: 100%;margin-bottom: 0;padding: 0.3em;box-sizing: border-box;text-align: center;}#sk-container-id-3 label.sk-toggleable__label-arrow:before {content: \"▸\";float: left;margin-right: 0.25em;color: #696969;}#sk-container-id-3 label.sk-toggleable__label-arrow:hover:before {color: black;}#sk-container-id-3 div.sk-estimator:hover label.sk-toggleable__label-arrow:before {color: black;}#sk-container-id-3 div.sk-toggleable__content {max-height: 0;max-width: 0;overflow: hidden;text-align: left;background-color: #f0f8ff;}#sk-container-id-3 div.sk-toggleable__content pre {margin: 0.2em;color: black;border-radius: 0.25em;background-color: #f0f8ff;}#sk-container-id-3 input.sk-toggleable__control:checked~div.sk-toggleable__content {max-height: 200px;max-width: 100%;overflow: auto;}#sk-container-id-3 input.sk-toggleable__control:checked~label.sk-toggleable__label-arrow:before {content: \"▾\";}#sk-container-id-3 div.sk-estimator input.sk-toggleable__control:checked~label.sk-toggleable__label {background-color: #d4ebff;}#sk-container-id-3 div.sk-label input.sk-toggleable__control:checked~label.sk-toggleable__label {background-color: #d4ebff;}#sk-container-id-3 input.sk-hidden--visually {border: 0;clip: rect(1px 1px 1px 1px);clip: rect(1px, 1px, 1px, 1px);height: 1px;margin: -1px;overflow: hidden;padding: 0;position: absolute;width: 1px;}#sk-container-id-3 div.sk-estimator {font-family: monospace;background-color: #f0f8ff;border: 1px dotted black;border-radius: 0.25em;box-sizing: border-box;margin-bottom: 0.5em;}#sk-container-id-3 div.sk-estimator:hover {background-color: #d4ebff;}#sk-container-id-3 div.sk-parallel-item::after {content: \"\";width: 100%;border-bottom: 1px solid gray;flex-grow: 1;}#sk-container-id-3 div.sk-label:hover label.sk-toggleable__label {background-color: #d4ebff;}#sk-container-id-3 div.sk-serial::before {content: \"\";position: absolute;border-left: 1px solid gray;box-sizing: border-box;top: 0;bottom: 0;left: 50%;z-index: 0;}#sk-container-id-3 div.sk-serial {display: flex;flex-direction: column;align-items: center;background-color: white;padding-right: 0.2em;padding-left: 0.2em;position: relative;}#sk-container-id-3 div.sk-item {position: relative;z-index: 1;}#sk-container-id-3 div.sk-parallel {display: flex;align-items: stretch;justify-content: center;background-color: white;position: relative;}#sk-container-id-3 div.sk-item::before, #sk-container-id-3 div.sk-parallel-item::before {content: \"\";position: absolute;border-left: 1px solid gray;box-sizing: border-box;top: 0;bottom: 0;left: 50%;z-index: -1;}#sk-container-id-3 div.sk-parallel-item {display: flex;flex-direction: column;z-index: 1;position: relative;background-color: white;}#sk-container-id-3 div.sk-parallel-item:first-child::after {align-self: flex-end;width: 50%;}#sk-container-id-3 div.sk-parallel-item:last-child::after {align-self: flex-start;width: 50%;}#sk-container-id-3 div.sk-parallel-item:only-child::after {width: 0;}#sk-container-id-3 div.sk-dashed-wrapped {border: 1px dashed gray;margin: 0 0.4em 0.5em 0.4em;box-sizing: border-box;padding-bottom: 0.4em;background-color: white;}#sk-container-id-3 div.sk-label label {font-family: monospace;font-weight: bold;display: inline-block;line-height: 1.2em;}#sk-container-id-3 div.sk-label-container {text-align: center;}#sk-container-id-3 div.sk-container {/* jupyter's `normalize.less` sets `[hidden] { display: none; }` but bootstrap.min.css set `[hidden] { display: none !important; }` so we also need the `!important` here to be able to override the default hidden behavior on the sphinx rendered scikit-learn.org. See: https://github.com/scikit-learn/scikit-learn/issues/21755 */display: inline-block !important;position: relative;}#sk-container-id-3 div.sk-text-repr-fallback {display: none;}</style><div id=\"sk-container-id-3\" class=\"sk-top-container\"><div class=\"sk-text-repr-fallback\"><pre>GridSearchCV(cv=2, estimator=RandomForestClassifier(n_jobs=-1, random_state=42),\n",
       "             param_grid={&#x27;max_depth&#x27;: [4, 6, 8], &#x27;min_samples_leaf&#x27;: [40, 50],\n",
       "                         &#x27;min_samples_split&#x27;: [50, 100, 150],\n",
       "                         &#x27;n_estimators&#x27;: [50, 80, 100]},\n",
       "             scoring=&#x27;roc_auc&#x27;)</pre><b>In a Jupyter environment, please rerun this cell to show the HTML representation or trust the notebook. <br />On GitHub, the HTML representation is unable to render, please try loading this page with nbviewer.org.</b></div><div class=\"sk-container\" hidden><div class=\"sk-item sk-dashed-wrapped\"><div class=\"sk-label-container\"><div class=\"sk-label sk-toggleable\"><input class=\"sk-toggleable__control sk-hidden--visually\" id=\"sk-estimator-id-5\" type=\"checkbox\" ><label for=\"sk-estimator-id-5\" class=\"sk-toggleable__label sk-toggleable__label-arrow\">GridSearchCV</label><div class=\"sk-toggleable__content\"><pre>GridSearchCV(cv=2, estimator=RandomForestClassifier(n_jobs=-1, random_state=42),\n",
       "             param_grid={&#x27;max_depth&#x27;: [4, 6, 8], &#x27;min_samples_leaf&#x27;: [40, 50],\n",
       "                         &#x27;min_samples_split&#x27;: [50, 100, 150],\n",
       "                         &#x27;n_estimators&#x27;: [50, 80, 100]},\n",
       "             scoring=&#x27;roc_auc&#x27;)</pre></div></div></div><div class=\"sk-parallel\"><div class=\"sk-parallel-item\"><div class=\"sk-item\"><div class=\"sk-label-container\"><div class=\"sk-label sk-toggleable\"><input class=\"sk-toggleable__control sk-hidden--visually\" id=\"sk-estimator-id-6\" type=\"checkbox\" ><label for=\"sk-estimator-id-6\" class=\"sk-toggleable__label sk-toggleable__label-arrow\">estimator: RandomForestClassifier</label><div class=\"sk-toggleable__content\"><pre>RandomForestClassifier(n_jobs=-1, random_state=42)</pre></div></div></div><div class=\"sk-serial\"><div class=\"sk-item\"><div class=\"sk-estimator sk-toggleable\"><input class=\"sk-toggleable__control sk-hidden--visually\" id=\"sk-estimator-id-7\" type=\"checkbox\" ><label for=\"sk-estimator-id-7\" class=\"sk-toggleable__label sk-toggleable__label-arrow\">RandomForestClassifier</label><div class=\"sk-toggleable__content\"><pre>RandomForestClassifier(n_jobs=-1, random_state=42)</pre></div></div></div></div></div></div></div></div></div></div>"
      ],
      "text/plain": [
       "GridSearchCV(cv=2, estimator=RandomForestClassifier(n_jobs=-1, random_state=42),\n",
       "             param_grid={'max_depth': [4, 6, 8], 'min_samples_leaf': [40, 50],\n",
       "                         'min_samples_split': [50, 100, 150],\n",
       "                         'n_estimators': [50, 80, 100]},\n",
       "             scoring='roc_auc')"
      ]
     },
     "execution_count": 39,
     "metadata": {},
     "output_type": "execute_result"
    }
   ],
   "source": [
    "n_estimators = [50,80,100]\n",
    "max_depth = [4,6,8]\n",
    "min_samples_split = [50,100,150]\n",
    "min_samples_leaf = [40,50]\n",
    "\n",
    "rf_parameters = {'n_estimators' : n_estimators,\n",
    "              'max_depth' : max_depth,\n",
    "              'min_samples_split' : min_samples_split,\n",
    "              'min_samples_leaf' : min_samples_leaf}\n",
    "\n",
    "grid = GridSearchCV(estimator=RandomForestClassifier(random_state=42, n_jobs=-1),\n",
    "                       param_grid = rf_parameters,\n",
    "                       cv = 2, scoring='roc_auc')\n",
    "\n",
    "grid.fit(train_inputs,train_targets)"
   ]
  },
  {
   "cell_type": "markdown",
   "metadata": {},
   "source": [
    "### Best random Forest"
   ]
  },
  {
   "cell_type": "code",
   "execution_count": 40,
   "metadata": {
    "id": "khol1wcC8-L8"
   },
   "outputs": [],
   "source": [
    "best_rf = grid.best_estimator_"
   ]
  },
  {
   "cell_type": "code",
   "execution_count": 41,
   "metadata": {
    "id": "L0Y_lB4S8-L9"
   },
   "outputs": [
    {
     "data": {
      "text/plain": [
       "{'max_depth': 8,\n",
       " 'min_samples_leaf': 40,\n",
       " 'min_samples_split': 150,\n",
       " 'n_estimators': 100}"
      ]
     },
     "execution_count": 41,
     "metadata": {},
     "output_type": "execute_result"
    }
   ],
   "source": [
    "grid.best_params_"
   ]
  },
  {
   "cell_type": "code",
   "execution_count": 42,
   "metadata": {
    "id": "47P_YvwH8-L-"
   },
   "outputs": [
    {
     "data": {
      "text/plain": [
       "(0.8098798697653531, 0.8089721137006601)"
      ]
     },
     "execution_count": 42,
     "metadata": {},
     "output_type": "execute_result"
    }
   ],
   "source": [
    "best_rf.fit(train_inputs, train_targets)\n",
    "best_rf.score(train_inputs, train_targets), best_rf.score(val_inputs, val_targets)"
   ]
  },
  {
   "cell_type": "code",
   "execution_count": 43,
   "metadata": {
    "id": "RSZL3y4R8-MA"
   },
   "outputs": [
    {
     "data": {
      "text/html": [
       "<div>\n",
       "<style scoped>\n",
       "    .dataframe tbody tr th:only-of-type {\n",
       "        vertical-align: middle;\n",
       "    }\n",
       "\n",
       "    .dataframe tbody tr th {\n",
       "        vertical-align: top;\n",
       "    }\n",
       "\n",
       "    .dataframe thead th {\n",
       "        text-align: right;\n",
       "    }\n",
       "</style>\n",
       "<table border=\"1\" class=\"dataframe\">\n",
       "  <thead>\n",
       "    <tr style=\"text-align: right;\">\n",
       "      <th></th>\n",
       "      <th>feature</th>\n",
       "      <th>importance</th>\n",
       "    </tr>\n",
       "  </thead>\n",
       "  <tbody>\n",
       "    <tr>\n",
       "      <th>64</th>\n",
       "      <td>BMI</td>\n",
       "      <td>0.247382</td>\n",
       "    </tr>\n",
       "    <tr>\n",
       "      <th>63</th>\n",
       "      <td>Wt</td>\n",
       "      <td>0.185423</td>\n",
       "    </tr>\n",
       "    <tr>\n",
       "      <th>42</th>\n",
       "      <td>Medical_History_23</td>\n",
       "      <td>0.113254</td>\n",
       "    </tr>\n",
       "    <tr>\n",
       "      <th>25</th>\n",
       "      <td>Medical_History_4</td>\n",
       "      <td>0.095488</td>\n",
       "    </tr>\n",
       "    <tr>\n",
       "      <th>83</th>\n",
       "      <td>Medical_Keyword_15</td>\n",
       "      <td>0.086082</td>\n",
       "    </tr>\n",
       "    <tr>\n",
       "      <th>60</th>\n",
       "      <td>Product_Info_4</td>\n",
       "      <td>0.036178</td>\n",
       "    </tr>\n",
       "    <tr>\n",
       "      <th>13</th>\n",
       "      <td>InsuredInfo_6</td>\n",
       "      <td>0.033401</td>\n",
       "    </tr>\n",
       "    <tr>\n",
       "      <th>68</th>\n",
       "      <td>Family_Hist_4</td>\n",
       "      <td>0.025360</td>\n",
       "    </tr>\n",
       "    <tr>\n",
       "      <th>61</th>\n",
       "      <td>Ins_Age</td>\n",
       "      <td>0.024931</td>\n",
       "    </tr>\n",
       "    <tr>\n",
       "      <th>71</th>\n",
       "      <td>Medical_Keyword_3</td>\n",
       "      <td>0.018681</td>\n",
       "    </tr>\n",
       "  </tbody>\n",
       "</table>\n",
       "</div>"
      ],
      "text/plain": [
       "               feature  importance\n",
       "64                 BMI    0.247382\n",
       "63                  Wt    0.185423\n",
       "42  Medical_History_23    0.113254\n",
       "25   Medical_History_4    0.095488\n",
       "83  Medical_Keyword_15    0.086082\n",
       "60      Product_Info_4    0.036178\n",
       "13       InsuredInfo_6    0.033401\n",
       "68       Family_Hist_4    0.025360\n",
       "61             Ins_Age    0.024931\n",
       "71   Medical_Keyword_3    0.018681"
      ]
     },
     "execution_count": 43,
     "metadata": {},
     "output_type": "execute_result"
    }
   ],
   "source": [
    "tree_importances = best_rf.feature_importances_\n",
    "\n",
    "tree_importance_df = pd.DataFrame({\n",
    "    'feature': train_inputs.columns,\n",
    "    'importance': tree_importances\n",
    "}).sort_values('importance', ascending=False)\n",
    "\n",
    "tree_importance_df.head(10)"
   ]
  },
  {
   "cell_type": "code",
   "execution_count": 44,
   "metadata": {
    "id": "bGEtFLOD8-MB"
   },
   "outputs": [
    {
     "data": {
      "image/png": "[encoded data removed]",
      "text/plain": [
       "<Figure size 432x288 with 1 Axes>"
      ]
     },
     "metadata": {
      "needs_background": "light"
     },
     "output_type": "display_data"
    }
   ],
   "source": [
    "plt.title('Decision Tree Feature Importance')\n",
    "sns.barplot(data=tree_importance_df.head(10), x='importance', y='feature');"
   ]
  },
  {
   "cell_type": "markdown",
   "metadata": {
    "id": "T_x1Lyvf8-MB"
   },
   "source": [
    "# Gradient Boosting Machines (GBMs) with XGBoost"
   ]
  },
  {
   "cell_type": "markdown",
   "metadata": {
    "id": "RnJwfiDQ8-MC"
   },
   "source": [
    "### Grid_Search"
   ]
  },
  {
   "cell_type": "code",
   "execution_count": 55,
   "metadata": {
    "id": "N_IYjP518-MC"
   },
   "outputs": [
    {
     "data": {
      "text/html": [
       "<style>#sk-container-id-5 {color: black;background-color: white;}#sk-container-id-5 pre{padding: 0;}#sk-container-id-5 div.sk-toggleable {background-color: white;}#sk-container-id-5 label.sk-toggleable__label {cursor: pointer;display: block;width: 100%;margin-bottom: 0;padding: 0.3em;box-sizing: border-box;text-align: center;}#sk-container-id-5 label.sk-toggleable__label-arrow:before {content: \"▸\";float: left;margin-right: 0.25em;color: #696969;}#sk-container-id-5 label.sk-toggleable__label-arrow:hover:before {color: black;}#sk-container-id-5 div.sk-estimator:hover label.sk-toggleable__label-arrow:before {color: black;}#sk-container-id-5 div.sk-toggleable__content {max-height: 0;max-width: 0;overflow: hidden;text-align: left;background-color: #f0f8ff;}#sk-container-id-5 div.sk-toggleable__content pre {margin: 0.2em;color: black;border-radius: 0.25em;background-color: #f0f8ff;}#sk-container-id-5 input.sk-toggleable__control:checked~div.sk-toggleable__content {max-height: 200px;max-width: 100%;overflow: auto;}#sk-container-id-5 input.sk-toggleable__control:checked~label.sk-toggleable__label-arrow:before {content: \"▾\";}#sk-container-id-5 div.sk-estimator input.sk-toggleable__control:checked~label.sk-toggleable__label {background-color: #d4ebff;}#sk-container-id-5 div.sk-label input.sk-toggleable__control:checked~label.sk-toggleable__label {background-color: #d4ebff;}#sk-container-id-5 input.sk-hidden--visually {border: 0;clip: rect(1px 1px 1px 1px);clip: rect(1px, 1px, 1px, 1px);height: 1px;margin: -1px;overflow: hidden;padding: 0;position: absolute;width: 1px;}#sk-container-id-5 div.sk-estimator {font-family: monospace;background-color: #f0f8ff;border: 1px dotted black;border-radius: 0.25em;box-sizing: border-box;margin-bottom: 0.5em;}#sk-container-id-5 div.sk-estimator:hover {background-color: #d4ebff;}#sk-container-id-5 div.sk-parallel-item::after {content: \"\";width: 100%;border-bottom: 1px solid gray;flex-grow: 1;}#sk-container-id-5 div.sk-label:hover label.sk-toggleable__label {background-color: #d4ebff;}#sk-container-id-5 div.sk-serial::before {content: \"\";position: absolute;border-left: 1px solid gray;box-sizing: border-box;top: 0;bottom: 0;left: 50%;z-index: 0;}#sk-container-id-5 div.sk-serial {display: flex;flex-direction: column;align-items: center;background-color: white;padding-right: 0.2em;padding-left: 0.2em;position: relative;}#sk-container-id-5 div.sk-item {position: relative;z-index: 1;}#sk-container-id-5 div.sk-parallel {display: flex;align-items: stretch;justify-content: center;background-color: white;position: relative;}#sk-container-id-5 div.sk-item::before, #sk-container-id-5 div.sk-parallel-item::before {content: \"\";position: absolute;border-left: 1px solid gray;box-sizing: border-box;top: 0;bottom: 0;left: 50%;z-index: -1;}#sk-container-id-5 div.sk-parallel-item {display: flex;flex-direction: column;z-index: 1;position: relative;background-color: white;}#sk-container-id-5 div.sk-parallel-item:first-child::after {align-self: flex-end;width: 50%;}#sk-container-id-5 div.sk-parallel-item:last-child::after {align-self: flex-start;width: 50%;}#sk-container-id-5 div.sk-parallel-item:only-child::after {width: 0;}#sk-container-id-5 div.sk-dashed-wrapped {border: 1px dashed gray;margin: 0 0.4em 0.5em 0.4em;box-sizing: border-box;padding-bottom: 0.4em;background-color: white;}#sk-container-id-5 div.sk-label label {font-family: monospace;font-weight: bold;display: inline-block;line-height: 1.2em;}#sk-container-id-5 div.sk-label-container {text-align: center;}#sk-container-id-5 div.sk-container {/* jupyter's `normalize.less` sets `[hidden] { display: none; }` but bootstrap.min.css set `[hidden] { display: none !important; }` so we also need the `!important` here to be able to override the default hidden behavior on the sphinx rendered scikit-learn.org. See: https://github.com/scikit-learn/scikit-learn/issues/21755 */display: inline-block !important;position: relative;}#sk-container-id-5 div.sk-text-repr-fallback {display: none;}</style><div id=\"sk-container-id-5\" class=\"sk-top-container\"><div class=\"sk-text-repr-fallback\"><pre>GridSearchCV(estimator=GradientBoostingClassifier(),\n",
       "             param_grid={&#x27;learning_rate&#x27;: [0.01, 0.1, 1],\n",
       "                         &#x27;max_depth&#x27;: [1, 3, 5, 7],\n",
       "                         &#x27;n_estimators&#x27;: [5, 50, 250]})</pre><b>In a Jupyter environment, please rerun this cell to show the HTML representation or trust the notebook. <br />On GitHub, the HTML representation is unable to render, please try loading this page with nbviewer.org.</b></div><div class=\"sk-container\" hidden><div class=\"sk-item sk-dashed-wrapped\"><div class=\"sk-label-container\"><div class=\"sk-label sk-toggleable\"><input class=\"sk-toggleable__control sk-hidden--visually\" id=\"sk-estimator-id-9\" type=\"checkbox\" ><label for=\"sk-estimator-id-9\" class=\"sk-toggleable__label sk-toggleable__label-arrow\">GridSearchCV</label><div class=\"sk-toggleable__content\"><pre>GridSearchCV(estimator=GradientBoostingClassifier(),\n",
       "             param_grid={&#x27;learning_rate&#x27;: [0.01, 0.1, 1],\n",
       "                         &#x27;max_depth&#x27;: [1, 3, 5, 7],\n",
       "                         &#x27;n_estimators&#x27;: [5, 50, 250]})</pre></div></div></div><div class=\"sk-parallel\"><div class=\"sk-parallel-item\"><div class=\"sk-item\"><div class=\"sk-label-container\"><div class=\"sk-label sk-toggleable\"><input class=\"sk-toggleable__control sk-hidden--visually\" id=\"sk-estimator-id-10\" type=\"checkbox\" ><label for=\"sk-estimator-id-10\" class=\"sk-toggleable__label sk-toggleable__label-arrow\">estimator: GradientBoostingClassifier</label><div class=\"sk-toggleable__content\"><pre>GradientBoostingClassifier()</pre></div></div></div><div class=\"sk-serial\"><div class=\"sk-item\"><div class=\"sk-estimator sk-toggleable\"><input class=\"sk-toggleable__control sk-hidden--visually\" id=\"sk-estimator-id-11\" type=\"checkbox\" ><label for=\"sk-estimator-id-11\" class=\"sk-toggleable__label sk-toggleable__label-arrow\">GradientBoostingClassifier</label><div class=\"sk-toggleable__content\"><pre>GradientBoostingClassifier()</pre></div></div></div></div></div></div></div></div></div></div>"
      ],
      "text/plain": [
       "GridSearchCV(estimator=GradientBoostingClassifier(),\n",
       "             param_grid={'learning_rate': [0.01, 0.1, 1],\n",
       "                         'max_depth': [1, 3, 5, 7],\n",
       "                         'n_estimators': [5, 50, 250]})"
      ]
     },
     "execution_count": 55,
     "metadata": {},
     "output_type": "execute_result"
    }
   ],
   "source": [
    "gb_parameters ={\n",
    "    \"n_estimators\":[5,50,250],\n",
    "    \"max_depth\":[1,3,5,7],\n",
    "    \"learning_rate\":[0.01,0.1,1]\n",
    "}\n",
    "clf = GridSearchCV(GradientBoostingClassifier(), param_grid = gb_parameters, return_train_score = False)\n",
    "clf.fit(train_inputs, train_targets)"
   ]
  },
  {
   "cell_type": "markdown",
   "metadata": {},
   "source": [
    "### Best Gradient Descent"
   ]
  },
  {
   "cell_type": "code",
   "execution_count": 56,
   "metadata": {
    "id": "n_qZYkr38-MD"
   },
   "outputs": [],
   "source": [
    "best_gd = clf.best_estimator_"
   ]
  },
  {
   "cell_type": "code",
   "execution_count": 57,
   "metadata": {},
   "outputs": [
    {
     "data": {
      "text/plain": [
       "{'learning_rate': 0.1, 'max_depth': 5, 'n_estimators': 250}"
      ]
     },
     "execution_count": 57,
     "metadata": {},
     "output_type": "execute_result"
    }
   ],
   "source": [
    "clf.best_params_"
   ]
  },
  {
   "cell_type": "code",
   "execution_count": 58,
   "metadata": {},
   "outputs": [
    {
     "data": {
      "text/plain": [
       "0.8293926125519254"
      ]
     },
     "execution_count": 58,
     "metadata": {},
     "output_type": "execute_result"
    }
   ],
   "source": [
    "clf.best_score_"
   ]
  },
  {
   "cell_type": "code",
   "execution_count": 59,
   "metadata": {},
   "outputs": [
    {
     "data": {
      "text/plain": [
       "{'mean_fit_time': array([ 0.21491847,  1.90104208,  9.50637231,  0.5898489 ,  5.85492749,\n",
       "        29.28050365,  1.04773622, 10.22195153, 52.89058948,  1.52175674,\n",
       "        18.41845312, 75.46308827,  0.22819371,  1.89952354,  9.45016913,\n",
       "         0.61289802,  5.77543359, 27.61365733,  1.05720816, 10.45120401,\n",
       "        47.34110551,  1.55489798, 14.68483434, 68.12238159,  0.23639197,\n",
       "         1.91000395,  9.44901385,  0.58432508,  5.50114508, 27.74856062,\n",
       "         1.03752642,  9.56140156, 47.89878216,  1.45156317, 13.74810476,\n",
       "        69.22017245]),\n",
       " 'std_fit_time': array([0.00282111, 0.02690815, 0.25579155, 0.00427186, 0.0710179 ,\n",
       "        0.50134903, 0.02043415, 0.07691417, 1.26411823, 0.02039325,\n",
       "        1.966802  , 0.55341628, 0.00651303, 0.02651926, 0.08614144,\n",
       "        0.00911623, 0.08256527, 0.18072485, 0.03464279, 0.26459057,\n",
       "        0.37111085, 0.03940823, 0.15522181, 0.40794933, 0.01654057,\n",
       "        0.00850378, 0.10037427, 0.01206938, 0.07401088, 0.35527961,\n",
       "        0.02077787, 0.09992238, 0.46412286, 0.02277573, 0.26590713,\n",
       "        0.99145965]),\n",
       " 'mean_score_time': array([0.00917439, 0.01233711, 0.03024769, 0.00995831, 0.02064853,\n",
       "        0.06516323, 0.01040292, 0.02421918, 0.0816977 , 0.01150479,\n",
       "        0.03418117, 0.10308065, 0.00915484, 0.01411676, 0.02659912,\n",
       "        0.01014509, 0.01994762, 0.04895349, 0.01019344, 0.02268834,\n",
       "        0.06089325, 0.01124578, 0.02535191, 0.07702503, 0.01077099,\n",
       "        0.0126936 , 0.02426863, 0.01086173, 0.01740127, 0.04570251,\n",
       "        0.01039023, 0.0196485 , 0.0625988 , 0.01058497, 0.02370601,\n",
       "        0.08279357]),\n",
       " 'std_score_time': array([0.0003396 , 0.00025106, 0.00535102, 0.0005162 , 0.00174666,\n",
       "        0.00540242, 0.00082688, 0.00310141, 0.00347349, 0.00147672,\n",
       "        0.0037429 , 0.00442706, 0.0001135 , 0.00187171, 0.00277366,\n",
       "        0.00031984, 0.00214919, 0.0045418 , 0.00028676, 0.00077582,\n",
       "        0.00077082, 0.00072111, 0.00016431, 0.00140276, 0.00209044,\n",
       "        0.00104303, 0.00249674, 0.00194911, 0.00168956, 0.00262017,\n",
       "        0.00018469, 0.00076394, 0.00192085, 0.00027744, 0.00091149,\n",
       "        0.00166679]),\n",
       " 'param_learning_rate': masked_array(data=[0.01, 0.01, 0.01, 0.01, 0.01, 0.01, 0.01, 0.01, 0.01,\n",
       "                    0.01, 0.01, 0.01, 0.1, 0.1, 0.1, 0.1, 0.1, 0.1, 0.1,\n",
       "                    0.1, 0.1, 0.1, 0.1, 0.1, 1, 1, 1, 1, 1, 1, 1, 1, 1, 1,\n",
       "                    1, 1],\n",
       "              mask=[False, False, False, False, False, False, False, False,\n",
       "                    False, False, False, False, False, False, False, False,\n",
       "                    False, False, False, False, False, False, False, False,\n",
       "                    False, False, False, False, False, False, False, False,\n",
       "                    False, False, False, False],\n",
       "        fill_value='?',\n",
       "             dtype=object),\n",
       " 'param_max_depth': masked_array(data=[1, 1, 1, 3, 3, 3, 5, 5, 5, 7, 7, 7, 1, 1, 1, 3, 3, 3,\n",
       "                    5, 5, 5, 7, 7, 7, 1, 1, 1, 3, 3, 3, 5, 5, 5, 7, 7, 7],\n",
       "              mask=[False, False, False, False, False, False, False, False,\n",
       "                    False, False, False, False, False, False, False, False,\n",
       "                    False, False, False, False, False, False, False, False,\n",
       "                    False, False, False, False, False, False, False, False,\n",
       "                    False, False, False, False],\n",
       "        fill_value='?',\n",
       "             dtype=object),\n",
       " 'param_n_estimators': masked_array(data=[5, 50, 250, 5, 50, 250, 5, 50, 250, 5, 50, 250, 5, 50,\n",
       "                    250, 5, 50, 250, 5, 50, 250, 5, 50, 250, 5, 50, 250, 5,\n",
       "                    50, 250, 5, 50, 250, 5, 50, 250],\n",
       "              mask=[False, False, False, False, False, False, False, False,\n",
       "                    False, False, False, False, False, False, False, False,\n",
       "                    False, False, False, False, False, False, False, False,\n",
       "                    False, False, False, False, False, False, False, False,\n",
       "                    False, False, False, False],\n",
       "        fill_value='?',\n",
       "             dtype=object),\n",
       " 'params': [{'learning_rate': 0.01, 'max_depth': 1, 'n_estimators': 5},\n",
       "  {'learning_rate': 0.01, 'max_depth': 1, 'n_estimators': 50},\n",
       "  {'learning_rate': 0.01, 'max_depth': 1, 'n_estimators': 250},\n",
       "  {'learning_rate': 0.01, 'max_depth': 3, 'n_estimators': 5},\n",
       "  {'learning_rate': 0.01, 'max_depth': 3, 'n_estimators': 50},\n",
       "  {'learning_rate': 0.01, 'max_depth': 3, 'n_estimators': 250},\n",
       "  {'learning_rate': 0.01, 'max_depth': 5, 'n_estimators': 5},\n",
       "  {'learning_rate': 0.01, 'max_depth': 5, 'n_estimators': 50},\n",
       "  {'learning_rate': 0.01, 'max_depth': 5, 'n_estimators': 250},\n",
       "  {'learning_rate': 0.01, 'max_depth': 7, 'n_estimators': 5},\n",
       "  {'learning_rate': 0.01, 'max_depth': 7, 'n_estimators': 50},\n",
       "  {'learning_rate': 0.01, 'max_depth': 7, 'n_estimators': 250},\n",
       "  {'learning_rate': 0.1, 'max_depth': 1, 'n_estimators': 5},\n",
       "  {'learning_rate': 0.1, 'max_depth': 1, 'n_estimators': 50},\n",
       "  {'learning_rate': 0.1, 'max_depth': 1, 'n_estimators': 250},\n",
       "  {'learning_rate': 0.1, 'max_depth': 3, 'n_estimators': 5},\n",
       "  {'learning_rate': 0.1, 'max_depth': 3, 'n_estimators': 50},\n",
       "  {'learning_rate': 0.1, 'max_depth': 3, 'n_estimators': 250},\n",
       "  {'learning_rate': 0.1, 'max_depth': 5, 'n_estimators': 5},\n",
       "  {'learning_rate': 0.1, 'max_depth': 5, 'n_estimators': 50},\n",
       "  {'learning_rate': 0.1, 'max_depth': 5, 'n_estimators': 250},\n",
       "  {'learning_rate': 0.1, 'max_depth': 7, 'n_estimators': 5},\n",
       "  {'learning_rate': 0.1, 'max_depth': 7, 'n_estimators': 50},\n",
       "  {'learning_rate': 0.1, 'max_depth': 7, 'n_estimators': 250},\n",
       "  {'learning_rate': 1, 'max_depth': 1, 'n_estimators': 5},\n",
       "  {'learning_rate': 1, 'max_depth': 1, 'n_estimators': 50},\n",
       "  {'learning_rate': 1, 'max_depth': 1, 'n_estimators': 250},\n",
       "  {'learning_rate': 1, 'max_depth': 3, 'n_estimators': 5},\n",
       "  {'learning_rate': 1, 'max_depth': 3, 'n_estimators': 50},\n",
       "  {'learning_rate': 1, 'max_depth': 3, 'n_estimators': 250},\n",
       "  {'learning_rate': 1, 'max_depth': 5, 'n_estimators': 5},\n",
       "  {'learning_rate': 1, 'max_depth': 5, 'n_estimators': 50},\n",
       "  {'learning_rate': 1, 'max_depth': 5, 'n_estimators': 250},\n",
       "  {'learning_rate': 1, 'max_depth': 7, 'n_estimators': 5},\n",
       "  {'learning_rate': 1, 'max_depth': 7, 'n_estimators': 50},\n",
       "  {'learning_rate': 1, 'max_depth': 7, 'n_estimators': 250}],\n",
       " 'split0_test_score': array([0.67059616, 0.67059616, 0.77332435, 0.67059616, 0.67059616,\n",
       "        0.80689345, 0.67059616, 0.67048389, 0.81598743, 0.67059616,\n",
       "        0.72796677, 0.81935556, 0.67059616, 0.79476816, 0.81856966,\n",
       "        0.67059616, 0.81643651, 0.82811272, 0.67048389, 0.82395868,\n",
       "        0.82923543, 0.73571348, 0.82440777, 0.82530594, 0.79948355,\n",
       "        0.82103963, 0.82238689, 0.81228247, 0.82306051, 0.80902661,\n",
       "        0.81800831, 0.81037386, 0.79690131, 0.81026159, 0.79218592,\n",
       "        0.79521724]),\n",
       " 'split1_test_score': array([0.67059616, 0.67059616, 0.77175255, 0.67059616, 0.67059616,\n",
       "        0.80487257, 0.67059616, 0.67059616, 0.81542607, 0.67059616,\n",
       "        0.73436623, 0.82002919, 0.67059616, 0.79622769, 0.81812058,\n",
       "        0.67059616, 0.81385427, 0.82811272, 0.67059616, 0.82407096,\n",
       "        0.82867408, 0.75232963, 0.82440777, 0.82373414, 0.80060626,\n",
       "        0.82205007, 0.82788818, 0.81014932, 0.82384641, 0.80868979,\n",
       "        0.8160997 , 0.81329292, 0.80116762, 0.81104749, 0.79847311,\n",
       "        0.79903447]),\n",
       " 'split2_test_score': array([0.67059616, 0.67059616, 0.77377344, 0.67059616, 0.67059616,\n",
       "        0.81699787, 0.67059616, 0.67059616, 0.82238689, 0.67059616,\n",
       "        0.7458179 , 0.82609184, 0.67059616, 0.80913888, 0.82216234,\n",
       "        0.67059616, 0.82238689, 0.82732682, 0.67059616, 0.8250814 ,\n",
       "        0.82844953, 0.75053329, 0.82710228, 0.82530594, 0.80678118,\n",
       "        0.82205007, 0.82440777, 0.81666105, 0.82238689, 0.8160997 ,\n",
       "        0.81856966, 0.81127203, 0.79757494, 0.81385427, 0.79757494,\n",
       "        0.79970809]),\n",
       " 'split3_test_score': array([0.67059616, 0.67059616, 0.76872123, 0.67059616, 0.67059616,\n",
       "        0.80981251, 0.67059616, 0.67059616, 0.81901875, 0.67059616,\n",
       "        0.74368474, 0.8227237 , 0.67059616, 0.79802403, 0.82339733,\n",
       "        0.67059616, 0.81868194, 0.82755136, 0.67059616, 0.8250814 ,\n",
       "        0.82856181, 0.74918603, 0.82788818, 0.82609184, 0.79948355,\n",
       "        0.8250814 , 0.82732682, 0.81351746, 0.82463231, 0.81396654,\n",
       "        0.82047828, 0.80958796, 0.80262715, 0.81553834, 0.79925901,\n",
       "        0.80150443]),\n",
       " 'split4_test_score': array([0.67070843, 0.67070843, 0.77545751, 0.67070843, 0.67070843,\n",
       "        0.81194566, 0.67070843, 0.67070843, 0.82205007, 0.67070843,\n",
       "        0.73256989, 0.82609184, 0.67070843, 0.80217806, 0.82283597,\n",
       "        0.67070843, 0.81913102, 0.83035815, 0.67070843, 0.82609184,\n",
       "        0.83204221, 0.7426743 , 0.82519367, 0.82755136, 0.8031885 ,\n",
       "        0.82687774, 0.82800045, 0.81789604, 0.82395868, 0.81497698,\n",
       "        0.81991692, 0.81014932, 0.80127989, 0.82059055, 0.79768721,\n",
       "        0.79667677]),\n",
       " 'mean_test_score': array([0.67061861, 0.67061861, 0.77260582, 0.67061861, 0.67061861,\n",
       "        0.81010441, 0.67061861, 0.67059616, 0.81897384, 0.67061861,\n",
       "        0.7368811 , 0.82285843, 0.67061861, 0.80006736, 0.82101718,\n",
       "        0.67061861, 0.81809813, 0.82829235, 0.67059616, 0.82485685,\n",
       "        0.82939261, 0.74608735, 0.82579993, 0.82559784, 0.80190861,\n",
       "        0.82341978, 0.82600202, 0.81410127, 0.82357696, 0.81255193,\n",
       "        0.81861457, 0.81093522, 0.79991018, 0.81425845, 0.79703604,\n",
       "        0.7984282 ]),\n",
       " 'std_test_score': array([4.49084989e-05, 4.49084989e-05, 2.27287588e-03, 4.49084989e-05,\n",
       "        4.49084989e-05, 4.21135420e-03, 4.49084989e-05, 7.10065715e-05,\n",
       "        2.91957056e-03, 4.49084989e-05, 6.79017395e-03, 2.87063331e-03,\n",
       "        4.49084989e-05, 5.17198921e-03, 2.22104197e-03, 4.49084989e-05,\n",
       "        2.84859391e-03, 1.07827167e-03, 7.10065715e-05, 7.81072286e-04,\n",
       "        1.35211130e-03, 6.12536122e-03, 1.43531666e-03, 1.24129561e-03,\n",
       "        2.78704185e-03, 2.19707688e-03, 2.23236349e-03, 2.83617704e-03,\n",
       "        7.76540540e-04, 3.09233415e-03, 1.54036806e-03, 1.29769245e-03,\n",
       "        2.25147943e-03, 3.69275135e-03, 2.49979439e-03, 2.22919926e-03]),\n",
       " 'rank_test_score': array([27, 27, 24, 27, 27, 18, 27, 35, 11, 27, 26,  9, 27, 20, 10, 27, 13,\n",
       "         2, 35,  6,  1, 25,  4,  5, 19,  8,  3, 15,  7, 16, 12, 17, 21, 14,\n",
       "        23, 22], dtype=int32)}"
      ]
     },
     "execution_count": 59,
     "metadata": {},
     "output_type": "execute_result"
    }
   ],
   "source": [
    "clf.cv_results_"
   ]
  },
  {
   "cell_type": "code",
   "execution_count": 60,
   "metadata": {},
   "outputs": [
    {
     "data": {
      "text/plain": [
       "(0.8619512742786573, 0.8345008756567426)"
      ]
     },
     "execution_count": 60,
     "metadata": {},
     "output_type": "execute_result"
    }
   ],
   "source": [
    "best_gd.score(train_inputs, train_targets), best_gd.score(val_inputs, val_targets)"
   ]
  },
  {
   "cell_type": "code",
   "execution_count": 61,
   "metadata": {},
   "outputs": [
    {
     "data": {
      "application/javascript": [
       "window.require && require([\"base/js/namespace\"],function(Jupyter){Jupyter.notebook.save_checkpoint()})"
      ],
      "text/plain": [
       "<IPython.core.display.Javascript object>"
      ]
     },
     "metadata": {},
     "output_type": "display_data"
    },
    {
     "name": "stdout",
     "output_type": "stream",
     "text": [
      "[jovian] Updating notebook \"geo4367/machine-learning-final-project\" on https://jovian.ai\u001b[0m\n",
      "[jovian] Committed successfully! https://jovian.ai/geo4367/machine-learning-final-project\u001b[0m\n"
     ]
    },
    {
     "data": {
      "text/plain": [
       "'https://jovian.ai/geo4367/machine-learning-final-project'"
      ]
     },
     "execution_count": 61,
     "metadata": {},
     "output_type": "execute_result"
    }
   ],
   "source": [
    "# Execute this to save new versions of the notebook\n",
    "jovian.commit(project=\"project101\")"
   ]
  },
  {
   "cell_type": "code",
   "execution_count": 95,
   "metadata": {},
   "outputs": [
    {
     "data": {
      "text/html": [
       "<div>\n",
       "<style scoped>\n",
       "    .dataframe tbody tr th:only-of-type {\n",
       "        vertical-align: middle;\n",
       "    }\n",
       "\n",
       "    .dataframe tbody tr th {\n",
       "        vertical-align: top;\n",
       "    }\n",
       "\n",
       "    .dataframe thead th {\n",
       "        text-align: right;\n",
       "    }\n",
       "</style>\n",
       "<table border=\"1\" class=\"dataframe\">\n",
       "  <thead>\n",
       "    <tr style=\"text-align: right;\">\n",
       "      <th></th>\n",
       "      <th>feature</th>\n",
       "      <th>importance</th>\n",
       "    </tr>\n",
       "  </thead>\n",
       "  <tbody>\n",
       "    <tr>\n",
       "      <th>64</th>\n",
       "      <td>BMI</td>\n",
       "      <td>0.391214</td>\n",
       "    </tr>\n",
       "    <tr>\n",
       "      <th>25</th>\n",
       "      <td>Medical_History_4</td>\n",
       "      <td>0.132272</td>\n",
       "    </tr>\n",
       "    <tr>\n",
       "      <th>42</th>\n",
       "      <td>Medical_History_23</td>\n",
       "      <td>0.128868</td>\n",
       "    </tr>\n",
       "    <tr>\n",
       "      <th>60</th>\n",
       "      <td>Product_Info_4</td>\n",
       "      <td>0.050923</td>\n",
       "    </tr>\n",
       "    <tr>\n",
       "      <th>61</th>\n",
       "      <td>Ins_Age</td>\n",
       "      <td>0.032940</td>\n",
       "    </tr>\n",
       "    <tr>\n",
       "      <th>63</th>\n",
       "      <td>Wt</td>\n",
       "      <td>0.032573</td>\n",
       "    </tr>\n",
       "    <tr>\n",
       "      <th>83</th>\n",
       "      <td>Medical_Keyword_15</td>\n",
       "      <td>0.032421</td>\n",
       "    </tr>\n",
       "    <tr>\n",
       "      <th>71</th>\n",
       "      <td>Medical_Keyword_3</td>\n",
       "      <td>0.022549</td>\n",
       "    </tr>\n",
       "    <tr>\n",
       "      <th>13</th>\n",
       "      <td>InsuredInfo_6</td>\n",
       "      <td>0.016588</td>\n",
       "    </tr>\n",
       "    <tr>\n",
       "      <th>68</th>\n",
       "      <td>Family_Hist_4</td>\n",
       "      <td>0.012263</td>\n",
       "    </tr>\n",
       "  </tbody>\n",
       "</table>\n",
       "</div>"
      ],
      "text/plain": [
       "               feature  importance\n",
       "64                 BMI    0.391214\n",
       "25   Medical_History_4    0.132272\n",
       "42  Medical_History_23    0.128868\n",
       "60      Product_Info_4    0.050923\n",
       "61             Ins_Age    0.032940\n",
       "63                  Wt    0.032573\n",
       "83  Medical_Keyword_15    0.032421\n",
       "71   Medical_Keyword_3    0.022549\n",
       "13       InsuredInfo_6    0.016588\n",
       "68       Family_Hist_4    0.012263"
      ]
     },
     "execution_count": 95,
     "metadata": {},
     "output_type": "execute_result"
    }
   ],
   "source": [
    "tree_importances = best_gd.feature_importances_\n",
    "\n",
    "tree_importance_df = pd.DataFrame({\n",
    "    'feature': train_inputs.columns,\n",
    "    'importance': tree_importances\n",
    "}).sort_values('importance', ascending=False)\n",
    "\n",
    "tree_importance_df.head(10)"
   ]
  },
  {
   "cell_type": "code",
   "execution_count": 96,
   "metadata": {},
   "outputs": [
    {
     "data": {
      "image/png": "[encoded data removed]",
      "text/plain": [
       "<Figure size 432x288 with 1 Axes>"
      ]
     },
     "metadata": {
      "needs_background": "light"
     },
     "output_type": "display_data"
    }
   ],
   "source": [
    "plt.title('Decision Tree Feature Importance')\n",
    "sns.barplot(data=tree_importance_df.head(10), x='importance', y='feature');"
   ]
  },
  {
   "cell_type": "markdown",
   "metadata": {},
   "source": [
    "# XGBoost"
   ]
  },
  {
   "cell_type": "markdown",
   "metadata": {},
   "source": [
    "### Initializing a Grid search"
   ]
  },
  {
   "cell_type": "code",
   "execution_count": 67,
   "metadata": {},
   "outputs": [],
   "source": [
    "# Parameter grid for xgboost\n",
    "xgb_parameters = {'max_depth': [1,3,5], 'n_estimators': [2,5,10], 'learning_rate': [.01 , .1, .5]}"
   ]
  },
  {
   "cell_type": "code",
   "execution_count": 68,
   "metadata": {},
   "outputs": [
    {
     "data": {
      "text/html": [
       "<style>#sk-container-id-7 {color: black;background-color: white;}#sk-container-id-7 pre{padding: 0;}#sk-container-id-7 div.sk-toggleable {background-color: white;}#sk-container-id-7 label.sk-toggleable__label {cursor: pointer;display: block;width: 100%;margin-bottom: 0;padding: 0.3em;box-sizing: border-box;text-align: center;}#sk-container-id-7 label.sk-toggleable__label-arrow:before {content: \"▸\";float: left;margin-right: 0.25em;color: #696969;}#sk-container-id-7 label.sk-toggleable__label-arrow:hover:before {color: black;}#sk-container-id-7 div.sk-estimator:hover label.sk-toggleable__label-arrow:before {color: black;}#sk-container-id-7 div.sk-toggleable__content {max-height: 0;max-width: 0;overflow: hidden;text-align: left;background-color: #f0f8ff;}#sk-container-id-7 div.sk-toggleable__content pre {margin: 0.2em;color: black;border-radius: 0.25em;background-color: #f0f8ff;}#sk-container-id-7 input.sk-toggleable__control:checked~div.sk-toggleable__content {max-height: 200px;max-width: 100%;overflow: auto;}#sk-container-id-7 input.sk-toggleable__control:checked~label.sk-toggleable__label-arrow:before {content: \"▾\";}#sk-container-id-7 div.sk-estimator input.sk-toggleable__control:checked~label.sk-toggleable__label {background-color: #d4ebff;}#sk-container-id-7 div.sk-label input.sk-toggleable__control:checked~label.sk-toggleable__label {background-color: #d4ebff;}#sk-container-id-7 input.sk-hidden--visually {border: 0;clip: rect(1px 1px 1px 1px);clip: rect(1px, 1px, 1px, 1px);height: 1px;margin: -1px;overflow: hidden;padding: 0;position: absolute;width: 1px;}#sk-container-id-7 div.sk-estimator {font-family: monospace;background-color: #f0f8ff;border: 1px dotted black;border-radius: 0.25em;box-sizing: border-box;margin-bottom: 0.5em;}#sk-container-id-7 div.sk-estimator:hover {background-color: #d4ebff;}#sk-container-id-7 div.sk-parallel-item::after {content: \"\";width: 100%;border-bottom: 1px solid gray;flex-grow: 1;}#sk-container-id-7 div.sk-label:hover label.sk-toggleable__label {background-color: #d4ebff;}#sk-container-id-7 div.sk-serial::before {content: \"\";position: absolute;border-left: 1px solid gray;box-sizing: border-box;top: 0;bottom: 0;left: 50%;z-index: 0;}#sk-container-id-7 div.sk-serial {display: flex;flex-direction: column;align-items: center;background-color: white;padding-right: 0.2em;padding-left: 0.2em;position: relative;}#sk-container-id-7 div.sk-item {position: relative;z-index: 1;}#sk-container-id-7 div.sk-parallel {display: flex;align-items: stretch;justify-content: center;background-color: white;position: relative;}#sk-container-id-7 div.sk-item::before, #sk-container-id-7 div.sk-parallel-item::before {content: \"\";position: absolute;border-left: 1px solid gray;box-sizing: border-box;top: 0;bottom: 0;left: 50%;z-index: -1;}#sk-container-id-7 div.sk-parallel-item {display: flex;flex-direction: column;z-index: 1;position: relative;background-color: white;}#sk-container-id-7 div.sk-parallel-item:first-child::after {align-self: flex-end;width: 50%;}#sk-container-id-7 div.sk-parallel-item:last-child::after {align-self: flex-start;width: 50%;}#sk-container-id-7 div.sk-parallel-item:only-child::after {width: 0;}#sk-container-id-7 div.sk-dashed-wrapped {border: 1px dashed gray;margin: 0 0.4em 0.5em 0.4em;box-sizing: border-box;padding-bottom: 0.4em;background-color: white;}#sk-container-id-7 div.sk-label label {font-family: monospace;font-weight: bold;display: inline-block;line-height: 1.2em;}#sk-container-id-7 div.sk-label-container {text-align: center;}#sk-container-id-7 div.sk-container {/* jupyter's `normalize.less` sets `[hidden] { display: none; }` but bootstrap.min.css set `[hidden] { display: none !important; }` so we also need the `!important` here to be able to override the default hidden behavior on the sphinx rendered scikit-learn.org. See: https://github.com/scikit-learn/scikit-learn/issues/21755 */display: inline-block !important;position: relative;}#sk-container-id-7 div.sk-text-repr-fallback {display: none;}</style><div id=\"sk-container-id-7\" class=\"sk-top-container\"><div class=\"sk-text-repr-fallback\"><pre>GridSearchCV(estimator=XGBClassifier(base_score=None, booster=None,\n",
       "                                     callbacks=None, colsample_bylevel=None,\n",
       "                                     colsample_bynode=None,\n",
       "                                     colsample_bytree=None,\n",
       "                                     early_stopping_rounds=None,\n",
       "                                     enable_categorical=False, eval_metric=None,\n",
       "                                     gamma=None, gpu_id=None, grow_policy=None,\n",
       "                                     importance_type=None,\n",
       "                                     interaction_constraints=None,\n",
       "                                     learning_rate=None, max_bin=None,\n",
       "                                     max_cat_to_onehot=None,\n",
       "                                     max_delta_step=None, max_depth=None,\n",
       "                                     max_leaves=None, min_child_weight=None,\n",
       "                                     missing=nan, monotone_constraints=None,\n",
       "                                     n_estimators=100, n_jobs=None,\n",
       "                                     num_parallel_tree=None, predictor=None,\n",
       "                                     random_state=None, reg_alpha=None,\n",
       "                                     reg_lambda=None, ...),\n",
       "             param_grid={&#x27;learning_rate&#x27;: [0.01, 0.1, 0.5],\n",
       "                         &#x27;max_depth&#x27;: [1, 3, 5], &#x27;n_estimators&#x27;: [2, 5, 10]})</pre><b>In a Jupyter environment, please rerun this cell to show the HTML representation or trust the notebook. <br />On GitHub, the HTML representation is unable to render, please try loading this page with nbviewer.org.</b></div><div class=\"sk-container\" hidden><div class=\"sk-item sk-dashed-wrapped\"><div class=\"sk-label-container\"><div class=\"sk-label sk-toggleable\"><input class=\"sk-toggleable__control sk-hidden--visually\" id=\"sk-estimator-id-13\" type=\"checkbox\" ><label for=\"sk-estimator-id-13\" class=\"sk-toggleable__label sk-toggleable__label-arrow\">GridSearchCV</label><div class=\"sk-toggleable__content\"><pre>GridSearchCV(estimator=XGBClassifier(base_score=None, booster=None,\n",
       "                                     callbacks=None, colsample_bylevel=None,\n",
       "                                     colsample_bynode=None,\n",
       "                                     colsample_bytree=None,\n",
       "                                     early_stopping_rounds=None,\n",
       "                                     enable_categorical=False, eval_metric=None,\n",
       "                                     gamma=None, gpu_id=None, grow_policy=None,\n",
       "                                     importance_type=None,\n",
       "                                     interaction_constraints=None,\n",
       "                                     learning_rate=None, max_bin=None,\n",
       "                                     max_cat_to_onehot=None,\n",
       "                                     max_delta_step=None, max_depth=None,\n",
       "                                     max_leaves=None, min_child_weight=None,\n",
       "                                     missing=nan, monotone_constraints=None,\n",
       "                                     n_estimators=100, n_jobs=None,\n",
       "                                     num_parallel_tree=None, predictor=None,\n",
       "                                     random_state=None, reg_alpha=None,\n",
       "                                     reg_lambda=None, ...),\n",
       "             param_grid={&#x27;learning_rate&#x27;: [0.01, 0.1, 0.5],\n",
       "                         &#x27;max_depth&#x27;: [1, 3, 5], &#x27;n_estimators&#x27;: [2, 5, 10]})</pre></div></div></div><div class=\"sk-parallel\"><div class=\"sk-parallel-item\"><div class=\"sk-item\"><div class=\"sk-label-container\"><div class=\"sk-label sk-toggleable\"><input class=\"sk-toggleable__control sk-hidden--visually\" id=\"sk-estimator-id-14\" type=\"checkbox\" ><label for=\"sk-estimator-id-14\" class=\"sk-toggleable__label sk-toggleable__label-arrow\">estimator: XGBClassifier</label><div class=\"sk-toggleable__content\"><pre>XGBClassifier(base_score=None, booster=None, callbacks=None,\n",
       "              colsample_bylevel=None, colsample_bynode=None,\n",
       "              colsample_bytree=None, early_stopping_rounds=None,\n",
       "              enable_categorical=False, eval_metric=None, gamma=None,\n",
       "              gpu_id=None, grow_policy=None, importance_type=None,\n",
       "              interaction_constraints=None, learning_rate=None, max_bin=None,\n",
       "              max_cat_to_onehot=None, max_delta_step=None, max_depth=None,\n",
       "              max_leaves=None, min_child_weight=None, missing=nan,\n",
       "              monotone_constraints=None, n_estimators=100, n_jobs=None,\n",
       "              num_parallel_tree=None, predictor=None, random_state=None,\n",
       "              reg_alpha=None, reg_lambda=None, ...)</pre></div></div></div><div class=\"sk-serial\"><div class=\"sk-item\"><div class=\"sk-estimator sk-toggleable\"><input class=\"sk-toggleable__control sk-hidden--visually\" id=\"sk-estimator-id-15\" type=\"checkbox\" ><label for=\"sk-estimator-id-15\" class=\"sk-toggleable__label sk-toggleable__label-arrow\">XGBClassifier</label><div class=\"sk-toggleable__content\"><pre>XGBClassifier(base_score=None, booster=None, callbacks=None,\n",
       "              colsample_bylevel=None, colsample_bynode=None,\n",
       "              colsample_bytree=None, early_stopping_rounds=None,\n",
       "              enable_categorical=False, eval_metric=None, gamma=None,\n",
       "              gpu_id=None, grow_policy=None, importance_type=None,\n",
       "              interaction_constraints=None, learning_rate=None, max_bin=None,\n",
       "              max_cat_to_onehot=None, max_delta_step=None, max_depth=None,\n",
       "              max_leaves=None, min_child_weight=None, missing=nan,\n",
       "              monotone_constraints=None, n_estimators=100, n_jobs=None,\n",
       "              num_parallel_tree=None, predictor=None, random_state=None,\n",
       "              reg_alpha=None, reg_lambda=None, ...)</pre></div></div></div></div></div></div></div></div></div></div>"
      ],
      "text/plain": [
       "GridSearchCV(estimator=XGBClassifier(base_score=None, booster=None,\n",
       "                                     callbacks=None, colsample_bylevel=None,\n",
       "                                     colsample_bynode=None,\n",
       "                                     colsample_bytree=None,\n",
       "                                     early_stopping_rounds=None,\n",
       "                                     enable_categorical=False, eval_metric=None,\n",
       "                                     gamma=None, gpu_id=None, grow_policy=None,\n",
       "                                     importance_type=None,\n",
       "                                     interaction_constraints=None,\n",
       "                                     learning_rate=None, max_bin=None,\n",
       "                                     max_cat_to_onehot=None,\n",
       "                                     max_delta_step=None, max_depth=None,\n",
       "                                     max_leaves=None, min_child_weight=None,\n",
       "                                     missing=nan, monotone_constraints=None,\n",
       "                                     n_estimators=100, n_jobs=None,\n",
       "                                     num_parallel_tree=None, predictor=None,\n",
       "                                     random_state=None, reg_alpha=None,\n",
       "                                     reg_lambda=None, ...),\n",
       "             param_grid={'learning_rate': [0.01, 0.1, 0.5],\n",
       "                         'max_depth': [1, 3, 5], 'n_estimators': [2, 5, 10]})"
      ]
     },
     "execution_count": 68,
     "metadata": {},
     "output_type": "execute_result"
    }
   ],
   "source": [
    "clf = GridSearchCV(XGBClassifier(), param_grid = xgb_parameters, return_train_score = False)\n",
    "clf.fit(train_inputs, train_targets)"
   ]
  },
  {
   "cell_type": "markdown",
   "metadata": {},
   "source": [
    "### Best XGBoost"
   ]
  },
  {
   "cell_type": "code",
   "execution_count": 69,
   "metadata": {},
   "outputs": [],
   "source": [
    "best_xgb = clf.best_estimator_"
   ]
  },
  {
   "cell_type": "code",
   "execution_count": 70,
   "metadata": {},
   "outputs": [
    {
     "data": {
      "text/plain": [
       "0.8215336252385764"
      ]
     },
     "execution_count": 70,
     "metadata": {},
     "output_type": "execute_result"
    }
   ],
   "source": [
    "clf.best_score_"
   ]
  },
  {
   "cell_type": "code",
   "execution_count": 71,
   "metadata": {},
   "outputs": [
    {
     "data": {
      "text/plain": [
       "{'learning_rate': 0.5, 'max_depth': 5, 'n_estimators': 10}"
      ]
     },
     "execution_count": 71,
     "metadata": {},
     "output_type": "execute_result"
    }
   ],
   "source": [
    "clf.best_params_"
   ]
  },
  {
   "cell_type": "code",
   "execution_count": 72,
   "metadata": {},
   "outputs": [
    {
     "data": {
      "text/html": [
       "<style>#sk-container-id-8 {color: black;background-color: white;}#sk-container-id-8 pre{padding: 0;}#sk-container-id-8 div.sk-toggleable {background-color: white;}#sk-container-id-8 label.sk-toggleable__label {cursor: pointer;display: block;width: 100%;margin-bottom: 0;padding: 0.3em;box-sizing: border-box;text-align: center;}#sk-container-id-8 label.sk-toggleable__label-arrow:before {content: \"▸\";float: left;margin-right: 0.25em;color: #696969;}#sk-container-id-8 label.sk-toggleable__label-arrow:hover:before {color: black;}#sk-container-id-8 div.sk-estimator:hover label.sk-toggleable__label-arrow:before {color: black;}#sk-container-id-8 div.sk-toggleable__content {max-height: 0;max-width: 0;overflow: hidden;text-align: left;background-color: #f0f8ff;}#sk-container-id-8 div.sk-toggleable__content pre {margin: 0.2em;color: black;border-radius: 0.25em;background-color: #f0f8ff;}#sk-container-id-8 input.sk-toggleable__control:checked~div.sk-toggleable__content {max-height: 200px;max-width: 100%;overflow: auto;}#sk-container-id-8 input.sk-toggleable__control:checked~label.sk-toggleable__label-arrow:before {content: \"▾\";}#sk-container-id-8 div.sk-estimator input.sk-toggleable__control:checked~label.sk-toggleable__label {background-color: #d4ebff;}#sk-container-id-8 div.sk-label input.sk-toggleable__control:checked~label.sk-toggleable__label {background-color: #d4ebff;}#sk-container-id-8 input.sk-hidden--visually {border: 0;clip: rect(1px 1px 1px 1px);clip: rect(1px, 1px, 1px, 1px);height: 1px;margin: -1px;overflow: hidden;padding: 0;position: absolute;width: 1px;}#sk-container-id-8 div.sk-estimator {font-family: monospace;background-color: #f0f8ff;border: 1px dotted black;border-radius: 0.25em;box-sizing: border-box;margin-bottom: 0.5em;}#sk-container-id-8 div.sk-estimator:hover {background-color: #d4ebff;}#sk-container-id-8 div.sk-parallel-item::after {content: \"\";width: 100%;border-bottom: 1px solid gray;flex-grow: 1;}#sk-container-id-8 div.sk-label:hover label.sk-toggleable__label {background-color: #d4ebff;}#sk-container-id-8 div.sk-serial::before {content: \"\";position: absolute;border-left: 1px solid gray;box-sizing: border-box;top: 0;bottom: 0;left: 50%;z-index: 0;}#sk-container-id-8 div.sk-serial {display: flex;flex-direction: column;align-items: center;background-color: white;padding-right: 0.2em;padding-left: 0.2em;position: relative;}#sk-container-id-8 div.sk-item {position: relative;z-index: 1;}#sk-container-id-8 div.sk-parallel {display: flex;align-items: stretch;justify-content: center;background-color: white;position: relative;}#sk-container-id-8 div.sk-item::before, #sk-container-id-8 div.sk-parallel-item::before {content: \"\";position: absolute;border-left: 1px solid gray;box-sizing: border-box;top: 0;bottom: 0;left: 50%;z-index: -1;}#sk-container-id-8 div.sk-parallel-item {display: flex;flex-direction: column;z-index: 1;position: relative;background-color: white;}#sk-container-id-8 div.sk-parallel-item:first-child::after {align-self: flex-end;width: 50%;}#sk-container-id-8 div.sk-parallel-item:last-child::after {align-self: flex-start;width: 50%;}#sk-container-id-8 div.sk-parallel-item:only-child::after {width: 0;}#sk-container-id-8 div.sk-dashed-wrapped {border: 1px dashed gray;margin: 0 0.4em 0.5em 0.4em;box-sizing: border-box;padding-bottom: 0.4em;background-color: white;}#sk-container-id-8 div.sk-label label {font-family: monospace;font-weight: bold;display: inline-block;line-height: 1.2em;}#sk-container-id-8 div.sk-label-container {text-align: center;}#sk-container-id-8 div.sk-container {/* jupyter's `normalize.less` sets `[hidden] { display: none; }` but bootstrap.min.css set `[hidden] { display: none !important; }` so we also need the `!important` here to be able to override the default hidden behavior on the sphinx rendered scikit-learn.org. See: https://github.com/scikit-learn/scikit-learn/issues/21755 */display: inline-block !important;position: relative;}#sk-container-id-8 div.sk-text-repr-fallback {display: none;}</style><div id=\"sk-container-id-8\" class=\"sk-top-container\"><div class=\"sk-text-repr-fallback\"><pre>XGBClassifier(base_score=0.5, booster=&#x27;gbtree&#x27;, callbacks=None,\n",
       "              colsample_bylevel=1, colsample_bynode=1, colsample_bytree=1,\n",
       "              early_stopping_rounds=None, enable_categorical=False,\n",
       "              eval_metric=None, gamma=0, gpu_id=-1, grow_policy=&#x27;depthwise&#x27;,\n",
       "              importance_type=None, interaction_constraints=&#x27;&#x27;,\n",
       "              learning_rate=0.5, max_bin=256, max_cat_to_onehot=4,\n",
       "              max_delta_step=0, max_depth=5, max_leaves=0, min_child_weight=1,\n",
       "              missing=nan, monotone_constraints=&#x27;()&#x27;, n_estimators=10, n_jobs=0,\n",
       "              num_parallel_tree=1, predictor=&#x27;auto&#x27;, random_state=0,\n",
       "              reg_alpha=0, reg_lambda=1, ...)</pre><b>In a Jupyter environment, please rerun this cell to show the HTML representation or trust the notebook. <br />On GitHub, the HTML representation is unable to render, please try loading this page with nbviewer.org.</b></div><div class=\"sk-container\" hidden><div class=\"sk-item\"><div class=\"sk-estimator sk-toggleable\"><input class=\"sk-toggleable__control sk-hidden--visually\" id=\"sk-estimator-id-16\" type=\"checkbox\" checked><label for=\"sk-estimator-id-16\" class=\"sk-toggleable__label sk-toggleable__label-arrow\">XGBClassifier</label><div class=\"sk-toggleable__content\"><pre>XGBClassifier(base_score=0.5, booster=&#x27;gbtree&#x27;, callbacks=None,\n",
       "              colsample_bylevel=1, colsample_bynode=1, colsample_bytree=1,\n",
       "              early_stopping_rounds=None, enable_categorical=False,\n",
       "              eval_metric=None, gamma=0, gpu_id=-1, grow_policy=&#x27;depthwise&#x27;,\n",
       "              importance_type=None, interaction_constraints=&#x27;&#x27;,\n",
       "              learning_rate=0.5, max_bin=256, max_cat_to_onehot=4,\n",
       "              max_delta_step=0, max_depth=5, max_leaves=0, min_child_weight=1,\n",
       "              missing=nan, monotone_constraints=&#x27;()&#x27;, n_estimators=10, n_jobs=0,\n",
       "              num_parallel_tree=1, predictor=&#x27;auto&#x27;, random_state=0,\n",
       "              reg_alpha=0, reg_lambda=1, ...)</pre></div></div></div></div></div>"
      ],
      "text/plain": [
       "XGBClassifier(base_score=0.5, booster='gbtree', callbacks=None,\n",
       "              colsample_bylevel=1, colsample_bynode=1, colsample_bytree=1,\n",
       "              early_stopping_rounds=None, enable_categorical=False,\n",
       "              eval_metric=None, gamma=0, gpu_id=-1, grow_policy='depthwise',\n",
       "              importance_type=None, interaction_constraints='',\n",
       "              learning_rate=0.5, max_bin=256, max_cat_to_onehot=4,\n",
       "              max_delta_step=0, max_depth=5, max_leaves=0, min_child_weight=1,\n",
       "              missing=nan, monotone_constraints='()', n_estimators=10, n_jobs=0,\n",
       "              num_parallel_tree=1, predictor='auto', random_state=0,\n",
       "              reg_alpha=0, reg_lambda=1, ...)"
      ]
     },
     "execution_count": 72,
     "metadata": {},
     "output_type": "execute_result"
    }
   ],
   "source": [
    "best_xgb.fit(train_inputs, train_targets)"
   ]
  },
  {
   "cell_type": "code",
   "execution_count": 73,
   "metadata": {},
   "outputs": [
    {
     "data": {
      "text/plain": [
       "(0.8270573706073875, 0.824464502222821)"
      ]
     },
     "execution_count": 73,
     "metadata": {},
     "output_type": "execute_result"
    }
   ],
   "source": [
    "best_xgb.score(train_inputs, train_targets), best_xgb.score(val_inputs, val_targets)"
   ]
  },
  {
   "cell_type": "code",
   "execution_count": 74,
   "metadata": {},
   "outputs": [
    {
     "data": {
      "text/plain": [
       "(0.9048886192991362, 0.8998767623266644)"
      ]
     },
     "execution_count": 74,
     "metadata": {},
     "output_type": "execute_result"
    }
   ],
   "source": [
    "train_preds_prob = best_xgb.predict_proba(train_inputs)[:,1]\n",
    "val_preds_prob = best_xgb.predict_proba(val_inputs)[:,1]\n",
    "# Get the roc_auc score for train and test dataset\n",
    "train_roc = roc_auc_score(train_targets,train_preds_prob)\n",
    "val_roc = roc_auc_score(val_targets,val_preds_prob)\n",
    "\n",
    "train_roc, val_roc"
   ]
  },
  {
   "cell_type": "code",
   "execution_count": 75,
   "metadata": {},
   "outputs": [
    {
     "data": {
      "text/html": [
       "<div>\n",
       "<style scoped>\n",
       "    .dataframe tbody tr th:only-of-type {\n",
       "        vertical-align: middle;\n",
       "    }\n",
       "\n",
       "    .dataframe tbody tr th {\n",
       "        vertical-align: top;\n",
       "    }\n",
       "\n",
       "    .dataframe thead th {\n",
       "        text-align: right;\n",
       "    }\n",
       "</style>\n",
       "<table border=\"1\" class=\"dataframe\">\n",
       "  <thead>\n",
       "    <tr style=\"text-align: right;\">\n",
       "      <th></th>\n",
       "      <th>feature</th>\n",
       "      <th>importance</th>\n",
       "    </tr>\n",
       "  </thead>\n",
       "  <tbody>\n",
       "    <tr>\n",
       "      <th>42</th>\n",
       "      <td>Medical_History_23</td>\n",
       "      <td>0.194126</td>\n",
       "    </tr>\n",
       "    <tr>\n",
       "      <th>64</th>\n",
       "      <td>BMI</td>\n",
       "      <td>0.131602</td>\n",
       "    </tr>\n",
       "    <tr>\n",
       "      <th>25</th>\n",
       "      <td>Medical_History_4</td>\n",
       "      <td>0.108218</td>\n",
       "    </tr>\n",
       "    <tr>\n",
       "      <th>83</th>\n",
       "      <td>Medical_Keyword_15</td>\n",
       "      <td>0.060940</td>\n",
       "    </tr>\n",
       "    <tr>\n",
       "      <th>14</th>\n",
       "      <td>InsuredInfo_7</td>\n",
       "      <td>0.052034</td>\n",
       "    </tr>\n",
       "    <tr>\n",
       "      <th>71</th>\n",
       "      <td>Medical_Keyword_3</td>\n",
       "      <td>0.048733</td>\n",
       "    </tr>\n",
       "    <tr>\n",
       "      <th>13</th>\n",
       "      <td>InsuredInfo_6</td>\n",
       "      <td>0.032331</td>\n",
       "    </tr>\n",
       "    <tr>\n",
       "      <th>109</th>\n",
       "      <td>Medical_Keyword_41</td>\n",
       "      <td>0.026657</td>\n",
       "    </tr>\n",
       "    <tr>\n",
       "      <th>26</th>\n",
       "      <td>Medical_History_5</td>\n",
       "      <td>0.025853</td>\n",
       "    </tr>\n",
       "    <tr>\n",
       "      <th>60</th>\n",
       "      <td>Product_Info_4</td>\n",
       "      <td>0.025080</td>\n",
       "    </tr>\n",
       "  </tbody>\n",
       "</table>\n",
       "</div>"
      ],
      "text/plain": [
       "                feature  importance\n",
       "42   Medical_History_23    0.194126\n",
       "64                  BMI    0.131602\n",
       "25    Medical_History_4    0.108218\n",
       "83   Medical_Keyword_15    0.060940\n",
       "14        InsuredInfo_7    0.052034\n",
       "71    Medical_Keyword_3    0.048733\n",
       "13        InsuredInfo_6    0.032331\n",
       "109  Medical_Keyword_41    0.026657\n",
       "26    Medical_History_5    0.025853\n",
       "60       Product_Info_4    0.025080"
      ]
     },
     "execution_count": 75,
     "metadata": {},
     "output_type": "execute_result"
    }
   ],
   "source": [
    "tree_importances = best_xgb.feature_importances_\n",
    "\n",
    "tree_importance_df = pd.DataFrame({\n",
    "    'feature': train_inputs.columns,\n",
    "    'importance': tree_importances\n",
    "}).sort_values('importance', ascending=False)\n",
    "\n",
    "tree_importance_df.head(10)"
   ]
  },
  {
   "cell_type": "code",
   "execution_count": 76,
   "metadata": {},
   "outputs": [
    {
     "data": {
      "image/png": "[encoded data removed]",
      "text/plain": [
       "<Figure size 432x288 with 1 Axes>"
      ]
     },
     "metadata": {
      "needs_background": "light"
     },
     "output_type": "display_data"
    }
   ],
   "source": [
    "plt.title('Decision Tree Feature Importance')\n",
    "sns.barplot(data=tree_importance_df.head(10), x='importance', y='feature');"
   ]
  },
  {
   "cell_type": "markdown",
   "metadata": {},
   "source": [
    "# Logistic Regression"
   ]
  },
  {
   "cell_type": "markdown",
   "metadata": {},
   "source": [
    "### Grid_Search"
   ]
  },
  {
   "cell_type": "code",
   "execution_count": 77,
   "metadata": {},
   "outputs": [],
   "source": [
    "# parameter grid\n",
    "\n",
    "parameters = {\n",
    "    'penalty' : ['l1'], \n",
    "    'C'       : np.logspace(-3,3,3),\n",
    "    'solver'  : ['liblinear'],\n",
    "}\n",
    "\n",
    "\n",
    "# parameters = {\n",
    "#     'penalty' : ['l1','l2'], \n",
    "#     'C'       : np.logspace(-3,3,3),\n",
    "#     'solver'  : ['liblinear'],\n",
    "# }\n",
    "\n",
    "\n",
    "# parameters = {\n",
    "#     'penalty' : ['l1','l2'], \n",
    "#     'C'       : np.logspace(-3,3,3),\n",
    "#     'solver'  : ['newton-cg', 'lbfgs', 'liblinear'],\n",
    "# }"
   ]
  },
  {
   "cell_type": "code",
   "execution_count": 78,
   "metadata": {},
   "outputs": [],
   "source": [
    "logreg = LogisticRegression(max_iter=5000)\n",
    "clf = GridSearchCV(logreg,                    # model\n",
    "                   param_grid = parameters,   # hyperparameters\n",
    "                   scoring='accuracy',        # metric for scoring\n",
    "                   cv=10)                     # number of folds"
   ]
  },
  {
   "cell_type": "code",
   "execution_count": 79,
   "metadata": {},
   "outputs": [
    {
     "data": {
      "text/html": [
       "<style>#sk-container-id-9 {color: black;background-color: white;}#sk-container-id-9 pre{padding: 0;}#sk-container-id-9 div.sk-toggleable {background-color: white;}#sk-container-id-9 label.sk-toggleable__label {cursor: pointer;display: block;width: 100%;margin-bottom: 0;padding: 0.3em;box-sizing: border-box;text-align: center;}#sk-container-id-9 label.sk-toggleable__label-arrow:before {content: \"▸\";float: left;margin-right: 0.25em;color: #696969;}#sk-container-id-9 label.sk-toggleable__label-arrow:hover:before {color: black;}#sk-container-id-9 div.sk-estimator:hover label.sk-toggleable__label-arrow:before {color: black;}#sk-container-id-9 div.sk-toggleable__content {max-height: 0;max-width: 0;overflow: hidden;text-align: left;background-color: #f0f8ff;}#sk-container-id-9 div.sk-toggleable__content pre {margin: 0.2em;color: black;border-radius: 0.25em;background-color: #f0f8ff;}#sk-container-id-9 input.sk-toggleable__control:checked~div.sk-toggleable__content {max-height: 200px;max-width: 100%;overflow: auto;}#sk-container-id-9 input.sk-toggleable__control:checked~label.sk-toggleable__label-arrow:before {content: \"▾\";}#sk-container-id-9 div.sk-estimator input.sk-toggleable__control:checked~label.sk-toggleable__label {background-color: #d4ebff;}#sk-container-id-9 div.sk-label input.sk-toggleable__control:checked~label.sk-toggleable__label {background-color: #d4ebff;}#sk-container-id-9 input.sk-hidden--visually {border: 0;clip: rect(1px 1px 1px 1px);clip: rect(1px, 1px, 1px, 1px);height: 1px;margin: -1px;overflow: hidden;padding: 0;position: absolute;width: 1px;}#sk-container-id-9 div.sk-estimator {font-family: monospace;background-color: #f0f8ff;border: 1px dotted black;border-radius: 0.25em;box-sizing: border-box;margin-bottom: 0.5em;}#sk-container-id-9 div.sk-estimator:hover {background-color: #d4ebff;}#sk-container-id-9 div.sk-parallel-item::after {content: \"\";width: 100%;border-bottom: 1px solid gray;flex-grow: 1;}#sk-container-id-9 div.sk-label:hover label.sk-toggleable__label {background-color: #d4ebff;}#sk-container-id-9 div.sk-serial::before {content: \"\";position: absolute;border-left: 1px solid gray;box-sizing: border-box;top: 0;bottom: 0;left: 50%;z-index: 0;}#sk-container-id-9 div.sk-serial {display: flex;flex-direction: column;align-items: center;background-color: white;padding-right: 0.2em;padding-left: 0.2em;position: relative;}#sk-container-id-9 div.sk-item {position: relative;z-index: 1;}#sk-container-id-9 div.sk-parallel {display: flex;align-items: stretch;justify-content: center;background-color: white;position: relative;}#sk-container-id-9 div.sk-item::before, #sk-container-id-9 div.sk-parallel-item::before {content: \"\";position: absolute;border-left: 1px solid gray;box-sizing: border-box;top: 0;bottom: 0;left: 50%;z-index: -1;}#sk-container-id-9 div.sk-parallel-item {display: flex;flex-direction: column;z-index: 1;position: relative;background-color: white;}#sk-container-id-9 div.sk-parallel-item:first-child::after {align-self: flex-end;width: 50%;}#sk-container-id-9 div.sk-parallel-item:last-child::after {align-self: flex-start;width: 50%;}#sk-container-id-9 div.sk-parallel-item:only-child::after {width: 0;}#sk-container-id-9 div.sk-dashed-wrapped {border: 1px dashed gray;margin: 0 0.4em 0.5em 0.4em;box-sizing: border-box;padding-bottom: 0.4em;background-color: white;}#sk-container-id-9 div.sk-label label {font-family: monospace;font-weight: bold;display: inline-block;line-height: 1.2em;}#sk-container-id-9 div.sk-label-container {text-align: center;}#sk-container-id-9 div.sk-container {/* jupyter's `normalize.less` sets `[hidden] { display: none; }` but bootstrap.min.css set `[hidden] { display: none !important; }` so we also need the `!important` here to be able to override the default hidden behavior on the sphinx rendered scikit-learn.org. See: https://github.com/scikit-learn/scikit-learn/issues/21755 */display: inline-block !important;position: relative;}#sk-container-id-9 div.sk-text-repr-fallback {display: none;}</style><div id=\"sk-container-id-9\" class=\"sk-top-container\"><div class=\"sk-text-repr-fallback\"><pre>GridSearchCV(cv=10, estimator=LogisticRegression(max_iter=5000),\n",
       "             param_grid={&#x27;C&#x27;: array([1.e-03, 1.e+00, 1.e+03]),\n",
       "                         &#x27;penalty&#x27;: [&#x27;l1&#x27;], &#x27;solver&#x27;: [&#x27;liblinear&#x27;]},\n",
       "             scoring=&#x27;accuracy&#x27;)</pre><b>In a Jupyter environment, please rerun this cell to show the HTML representation or trust the notebook. <br />On GitHub, the HTML representation is unable to render, please try loading this page with nbviewer.org.</b></div><div class=\"sk-container\" hidden><div class=\"sk-item sk-dashed-wrapped\"><div class=\"sk-label-container\"><div class=\"sk-label sk-toggleable\"><input class=\"sk-toggleable__control sk-hidden--visually\" id=\"sk-estimator-id-17\" type=\"checkbox\" ><label for=\"sk-estimator-id-17\" class=\"sk-toggleable__label sk-toggleable__label-arrow\">GridSearchCV</label><div class=\"sk-toggleable__content\"><pre>GridSearchCV(cv=10, estimator=LogisticRegression(max_iter=5000),\n",
       "             param_grid={&#x27;C&#x27;: array([1.e-03, 1.e+00, 1.e+03]),\n",
       "                         &#x27;penalty&#x27;: [&#x27;l1&#x27;], &#x27;solver&#x27;: [&#x27;liblinear&#x27;]},\n",
       "             scoring=&#x27;accuracy&#x27;)</pre></div></div></div><div class=\"sk-parallel\"><div class=\"sk-parallel-item\"><div class=\"sk-item\"><div class=\"sk-label-container\"><div class=\"sk-label sk-toggleable\"><input class=\"sk-toggleable__control sk-hidden--visually\" id=\"sk-estimator-id-18\" type=\"checkbox\" ><label for=\"sk-estimator-id-18\" class=\"sk-toggleable__label sk-toggleable__label-arrow\">estimator: LogisticRegression</label><div class=\"sk-toggleable__content\"><pre>LogisticRegression(max_iter=5000)</pre></div></div></div><div class=\"sk-serial\"><div class=\"sk-item\"><div class=\"sk-estimator sk-toggleable\"><input class=\"sk-toggleable__control sk-hidden--visually\" id=\"sk-estimator-id-19\" type=\"checkbox\" ><label for=\"sk-estimator-id-19\" class=\"sk-toggleable__label sk-toggleable__label-arrow\">LogisticRegression</label><div class=\"sk-toggleable__content\"><pre>LogisticRegression(max_iter=5000)</pre></div></div></div></div></div></div></div></div></div></div>"
      ],
      "text/plain": [
       "GridSearchCV(cv=10, estimator=LogisticRegression(max_iter=5000),\n",
       "             param_grid={'C': array([1.e-03, 1.e+00, 1.e+03]),\n",
       "                         'penalty': ['l1'], 'solver': ['liblinear']},\n",
       "             scoring='accuracy')"
      ]
     },
     "execution_count": 79,
     "metadata": {},
     "output_type": "execute_result"
    }
   ],
   "source": [
    "clf.fit(train_inputs, train_targets)"
   ]
  },
  {
   "cell_type": "markdown",
   "metadata": {},
   "source": [
    "### Best LogReg"
   ]
  },
  {
   "cell_type": "code",
   "execution_count": 80,
   "metadata": {},
   "outputs": [],
   "source": [
    "best_logreg= clf.best_estimator_"
   ]
  },
  {
   "cell_type": "code",
   "execution_count": 81,
   "metadata": {},
   "outputs": [
    {
     "data": {
      "text/plain": [
       "0.8149995900908265"
      ]
     },
     "execution_count": 81,
     "metadata": {},
     "output_type": "execute_result"
    }
   ],
   "source": [
    "clf.best_score_"
   ]
  },
  {
   "cell_type": "code",
   "execution_count": 82,
   "metadata": {},
   "outputs": [
    {
     "data": {
      "text/plain": [
       "{'C': 1000.0, 'penalty': 'l1', 'solver': 'liblinear'}"
      ]
     },
     "execution_count": 82,
     "metadata": {},
     "output_type": "execute_result"
    }
   ],
   "source": [
    "clf.best_params_"
   ]
  },
  {
   "cell_type": "code",
   "execution_count": 83,
   "metadata": {},
   "outputs": [
    {
     "data": {
      "text/plain": [
       "(0.8169754125968339, 0.8129462481476492)"
      ]
     },
     "execution_count": 83,
     "metadata": {},
     "output_type": "execute_result"
    }
   ],
   "source": [
    "best_logreg.score(train_inputs, train_targets), best_logreg.score(val_inputs, val_targets)"
   ]
  },
  {
   "cell_type": "code",
   "execution_count": 84,
   "metadata": {},
   "outputs": [
    {
     "data": {
      "text/html": [
       "<div>\n",
       "<style scoped>\n",
       "    .dataframe tbody tr th:only-of-type {\n",
       "        vertical-align: middle;\n",
       "    }\n",
       "\n",
       "    .dataframe tbody tr th {\n",
       "        vertical-align: top;\n",
       "    }\n",
       "\n",
       "    .dataframe thead th {\n",
       "        text-align: right;\n",
       "    }\n",
       "</style>\n",
       "<table border=\"1\" class=\"dataframe\">\n",
       "  <thead>\n",
       "    <tr style=\"text-align: right;\">\n",
       "      <th></th>\n",
       "      <th>feature</th>\n",
       "      <th>importance</th>\n",
       "    </tr>\n",
       "  </thead>\n",
       "  <tbody>\n",
       "    <tr>\n",
       "      <th>62</th>\n",
       "      <td>Ht</td>\n",
       "      <td>3.831540</td>\n",
       "    </tr>\n",
       "    <tr>\n",
       "      <th>109</th>\n",
       "      <td>Medical_Keyword_41</td>\n",
       "      <td>1.824301</td>\n",
       "    </tr>\n",
       "    <tr>\n",
       "      <th>25</th>\n",
       "      <td>Medical_History_4</td>\n",
       "      <td>1.249048</td>\n",
       "    </tr>\n",
       "    <tr>\n",
       "      <th>39</th>\n",
       "      <td>Medical_History_20</td>\n",
       "      <td>1.223509</td>\n",
       "    </tr>\n",
       "    <tr>\n",
       "      <th>57</th>\n",
       "      <td>Medical_History_40</td>\n",
       "      <td>0.894626</td>\n",
       "    </tr>\n",
       "    <tr>\n",
       "      <th>36</th>\n",
       "      <td>Medical_History_17</td>\n",
       "      <td>0.739284</td>\n",
       "    </tr>\n",
       "    <tr>\n",
       "      <th>60</th>\n",
       "      <td>Product_Info_4</td>\n",
       "      <td>0.703839</td>\n",
       "    </tr>\n",
       "    <tr>\n",
       "      <th>68</th>\n",
       "      <td>Family_Hist_4</td>\n",
       "      <td>0.640559</td>\n",
       "    </tr>\n",
       "    <tr>\n",
       "      <th>111</th>\n",
       "      <td>Medical_Keyword_43</td>\n",
       "      <td>0.633416</td>\n",
       "    </tr>\n",
       "    <tr>\n",
       "      <th>80</th>\n",
       "      <td>Medical_Keyword_12</td>\n",
       "      <td>0.600949</td>\n",
       "    </tr>\n",
       "  </tbody>\n",
       "</table>\n",
       "</div>"
      ],
      "text/plain": [
       "                feature  importance\n",
       "62                   Ht    3.831540\n",
       "109  Medical_Keyword_41    1.824301\n",
       "25    Medical_History_4    1.249048\n",
       "39   Medical_History_20    1.223509\n",
       "57   Medical_History_40    0.894626\n",
       "36   Medical_History_17    0.739284\n",
       "60       Product_Info_4    0.703839\n",
       "68        Family_Hist_4    0.640559\n",
       "111  Medical_Keyword_43    0.633416\n",
       "80   Medical_Keyword_12    0.600949"
      ]
     },
     "execution_count": 84,
     "metadata": {},
     "output_type": "execute_result"
    }
   ],
   "source": [
    "tree_importances = best_logreg.coef_[0]\n",
    "tree_importance_df = pd.DataFrame({\n",
    "    'feature': train_inputs.columns,\n",
    "    'importance': tree_importances\n",
    "}).sort_values('importance', ascending=False)\n",
    "\n",
    "tree_importance_df.head(10)"
   ]
  },
  {
   "cell_type": "code",
   "execution_count": 85,
   "metadata": {},
   "outputs": [
    {
     "data": {
      "image/png": "[encoded data removed]",
      "text/plain": [
       "<Figure size 432x288 with 1 Axes>"
      ]
     },
     "metadata": {
      "needs_background": "light"
     },
     "output_type": "display_data"
    }
   ],
   "source": [
    "plt.title('Decision Tree Feature Importance')\n",
    "sns.barplot(data=tree_importance_df.head(10), x='importance', y='feature');"
   ]
  },
  {
   "cell_type": "markdown",
   "metadata": {},
   "source": [
    "# Max Voting Model"
   ]
  },
  {
   "cell_type": "code",
   "execution_count": 86,
   "metadata": {},
   "outputs": [
    {
     "data": {
      "text/plain": [
       "(0.8354103514090041, 0.8302573083658898)"
      ]
     },
     "execution_count": 86,
     "metadata": {},
     "output_type": "execute_result"
    }
   ],
   "source": [
    "voting_model = VotingClassifier([('tr', best_tree), ('rf', best_rf), ('gd', best_gd), ('xgb', best_xgb), ('lr', best_logreg)], voting='soft')\n",
    "voting_model.fit(train_inputs, train_targets)\n",
    "voting_model.score(train_inputs, train_targets), voting_model.score(val_inputs, val_targets)"
   ]
  },
  {
   "cell_type": "markdown",
   "metadata": {},
   "source": [
    "### JobLib"
   ]
  },
  {
   "cell_type": "code",
   "execution_count": 87,
   "metadata": {},
   "outputs": [],
   "source": [
    "best_est = {'tr': best_tree, \n",
    "            'rf': best_rf, \n",
    "            'gd': best_gd, \n",
    "            'xgb': best_xgb, \n",
    "            'lr': best_logreg, \n",
    "            'vm': voting_model\n",
    "}"
   ]
  },
  {
   "cell_type": "code",
   "execution_count": 88,
   "metadata": {},
   "outputs": [
    {
     "data": {
      "text/plain": [
       "['best_est.joblib']"
      ]
     },
     "execution_count": 88,
     "metadata": {},
     "output_type": "execute_result"
    }
   ],
   "source": [
    "joblib.dump(best_est, 'best_est.joblib')"
   ]
  },
  {
   "cell_type": "code",
   "execution_count": 89,
   "metadata": {},
   "outputs": [
    {
     "data": {
      "application/javascript": [
       "window.require && require([\"base/js/namespace\"],function(Jupyter){Jupyter.notebook.save_checkpoint()})"
      ],
      "text/plain": [
       "<IPython.core.display.Javascript object>"
      ]
     },
     "metadata": {},
     "output_type": "display_data"
    },
    {
     "name": "stdout",
     "output_type": "stream",
     "text": [
      "[jovian] Updating notebook \"geo4367/machine-learning-final-project\" on https://jovian.ai\u001b[0m\n",
      "[jovian] Uploading additional outputs...\u001b[0m\n",
      "[jovian] Committed successfully! https://jovian.ai/geo4367/machine-learning-final-project\u001b[0m\n"
     ]
    },
    {
     "data": {
      "text/plain": [
       "'https://jovian.ai/geo4367/machine-learning-final-project'"
      ]
     },
     "execution_count": 89,
     "metadata": {},
     "output_type": "execute_result"
    }
   ],
   "source": [
    "jovian.commit(outputs=['best_est.joblib'])"
   ]
  },
  {
   "cell_type": "markdown",
   "metadata": {},
   "source": [
    "### Loading JobLib File"
   ]
  },
  {
   "cell_type": "code",
   "execution_count": 90,
   "metadata": {},
   "outputs": [],
   "source": [
    "best_estimate = joblib.load('best_est.joblib')"
   ]
  },
  {
   "cell_type": "code",
   "execution_count": 91,
   "metadata": {},
   "outputs": [
    {
     "data": {
      "text/plain": [
       "{'tr': DecisionTreeClassifier(max_depth=8, min_samples_leaf=7, random_state=42),\n",
       " 'rf': RandomForestClassifier(max_depth=8, min_samples_leaf=40, min_samples_split=150,\n",
       "                        n_jobs=-1, random_state=42),\n",
       " 'gd': GradientBoostingClassifier(max_depth=5, n_estimators=250),\n",
       " 'xgb': XGBClassifier(base_score=0.5, booster='gbtree', callbacks=None,\n",
       "               colsample_bylevel=1, colsample_bynode=1, colsample_bytree=1,\n",
       "               early_stopping_rounds=None, enable_categorical=False,\n",
       "               eval_metric=None, gamma=0, gpu_id=-1, grow_policy='depthwise',\n",
       "               importance_type=None, interaction_constraints='',\n",
       "               learning_rate=0.5, max_bin=256, max_cat_to_onehot=4,\n",
       "               max_delta_step=0, max_depth=5, max_leaves=0, min_child_weight=1,\n",
       "               missing=nan, monotone_constraints='()', n_estimators=10, n_jobs=0,\n",
       "               num_parallel_tree=1, predictor='auto', random_state=0,\n",
       "               reg_alpha=0, reg_lambda=1, ...),\n",
       " 'lr': LogisticRegression(C=1000.0, max_iter=5000, penalty='l1', solver='liblinear'),\n",
       " 'vm': VotingClassifier(estimators=[('tr',\n",
       "                               DecisionTreeClassifier(max_depth=8,\n",
       "                                                      min_samples_leaf=7,\n",
       "                                                      random_state=42)),\n",
       "                              ('rf',\n",
       "                               RandomForestClassifier(max_depth=8,\n",
       "                                                      min_samples_leaf=40,\n",
       "                                                      min_samples_split=150,\n",
       "                                                      n_jobs=-1,\n",
       "                                                      random_state=42)),\n",
       "                              ('gd',\n",
       "                               GradientBoostingClassifier(max_depth=5,\n",
       "                                                          n_estimators=250)),\n",
       "                              ('xgb',\n",
       "                               XGBClassifier(base_score=0.5, booster='gbtree',\n",
       "                                             callbacks=None,...\n",
       "                                             learning_rate=0.5, max_bin=256,\n",
       "                                             max_cat_to_onehot=4,\n",
       "                                             max_delta_step=0, max_depth=5,\n",
       "                                             max_leaves=0, min_child_weight=1,\n",
       "                                             missing=nan,\n",
       "                                             monotone_constraints='()',\n",
       "                                             n_estimators=10, n_jobs=0,\n",
       "                                             num_parallel_tree=1,\n",
       "                                             predictor='auto', random_state=0,\n",
       "                                             reg_alpha=0, reg_lambda=1, ...)),\n",
       "                              ('lr',\n",
       "                               LogisticRegression(C=1000.0, max_iter=5000,\n",
       "                                                  penalty='l1',\n",
       "                                                  solver='liblinear'))],\n",
       "                  voting='soft')}"
      ]
     },
     "execution_count": 91,
     "metadata": {},
     "output_type": "execute_result"
    }
   ],
   "source": [
    "best_estimate"
   ]
  },
  {
   "cell_type": "code",
   "execution_count": 92,
   "metadata": {},
   "outputs": [
    {
     "data": {
      "text/html": [
       "<div>\n",
       "<style scoped>\n",
       "    .dataframe tbody tr th:only-of-type {\n",
       "        vertical-align: middle;\n",
       "    }\n",
       "\n",
       "    .dataframe tbody tr th {\n",
       "        vertical-align: top;\n",
       "    }\n",
       "\n",
       "    .dataframe thead th {\n",
       "        text-align: right;\n",
       "    }\n",
       "</style>\n",
       "<table border=\"1\" class=\"dataframe\">\n",
       "  <thead>\n",
       "    <tr style=\"text-align: right;\">\n",
       "      <th></th>\n",
       "      <th>Models</th>\n",
       "      <th>Train_Score</th>\n",
       "      <th>Test_Score</th>\n",
       "    </tr>\n",
       "  </thead>\n",
       "  <tbody>\n",
       "    <tr>\n",
       "      <th>0</th>\n",
       "      <td>Optimal_Gradient_descent_model</td>\n",
       "      <td>0.861951</td>\n",
       "      <td>0.834501</td>\n",
       "    </tr>\n",
       "    <tr>\n",
       "      <th>1</th>\n",
       "      <td>Voting_Model</td>\n",
       "      <td>0.835410</td>\n",
       "      <td>0.830257</td>\n",
       "    </tr>\n",
       "    <tr>\n",
       "      <th>2</th>\n",
       "      <td>Optimal_XGB</td>\n",
       "      <td>0.827057</td>\n",
       "      <td>0.824465</td>\n",
       "    </tr>\n",
       "    <tr>\n",
       "      <th>3</th>\n",
       "      <td>Optimal_tree_model</td>\n",
       "      <td>0.819176</td>\n",
       "      <td>0.813889</td>\n",
       "    </tr>\n",
       "    <tr>\n",
       "      <th>4</th>\n",
       "      <td>Optimal_Log_Reg_model</td>\n",
       "      <td>0.816975</td>\n",
       "      <td>0.812946</td>\n",
       "    </tr>\n",
       "    <tr>\n",
       "      <th>5</th>\n",
       "      <td>Optimial_forest_model</td>\n",
       "      <td>0.809880</td>\n",
       "      <td>0.808972</td>\n",
       "    </tr>\n",
       "  </tbody>\n",
       "</table>\n",
       "</div>"
      ],
      "text/plain": [
       "                           Models  Train_Score  Test_Score\n",
       "0  Optimal_Gradient_descent_model     0.861951    0.834501\n",
       "1                    Voting_Model     0.835410    0.830257\n",
       "2                     Optimal_XGB     0.827057    0.824465\n",
       "3              Optimal_tree_model     0.819176    0.813889\n",
       "4           Optimal_Log_Reg_model     0.816975    0.812946\n",
       "5           Optimial_forest_model     0.809880    0.808972"
      ]
     },
     "execution_count": 92,
     "metadata": {},
     "output_type": "execute_result"
    }
   ],
   "source": [
    "models = ['Optimal_tree_model', 'Optimial_forest_model', 'Optimal_Gradient_descent_model', 'Optimal_XGB', 'Optimal_Log_Reg_model', 'Voting_Model']\n",
    "\n",
    "train_score = [best_estimate['tr'].score(train_inputs, train_targets), best_estimate['rf'].score(train_inputs, train_targets),\n",
    "               best_estimate['gd'].score(train_inputs, train_targets), best_estimate['xgb'].score(train_inputs, train_targets), \n",
    "               best_estimate['lr'].score(train_inputs, train_targets), best_estimate['vm'].score(train_inputs, train_targets)]\n",
    "\n",
    "val_score = [best_estimate['tr'].score(val_inputs, val_targets), best_estimate['rf'].score(val_inputs, val_targets), \n",
    "             best_estimate['gd'].score(val_inputs, val_targets), best_estimate['xgb'].score(val_inputs, val_targets), \n",
    "             best_estimate['lr'].score(val_inputs, val_targets), best_estimate['vm'].score(val_inputs, val_targets)]\n",
    "\n",
    "model_score_df = pd.DataFrame({\n",
    "    'Models': models,\n",
    "    'Train_Score': train_score, \n",
    "    'Test_Score': val_score\n",
    "}).sort_values('Test_Score', ascending=False).reset_index(drop=True)\n",
    "\n",
    "model_score_df"
   ]
  },
  {
   "cell_type": "markdown",
   "metadata": {},
   "source": [
    "# Submission File"
   ]
  },
  {
   "cell_type": "markdown",
   "metadata": {},
   "source": [
    "##### Since the test score is higher in Optimal_Gradient_descent_model, i used this model to predict the output"
   ]
  },
  {
   "cell_type": "code",
   "execution_count": 93,
   "metadata": {},
   "outputs": [],
   "source": [
    "sample_submission = pd.DataFrame({'Id':list(test_df.Id), 'Response':list(best_estimate['gd'].predict(test))})\n",
    "sample_submission.to_csv('sample_submission.csv')"
   ]
  },
  {
   "cell_type": "code",
   "execution_count": 94,
   "metadata": {},
   "outputs": [
    {
     "data": {
      "text/html": [
       "<div>\n",
       "<style scoped>\n",
       "    .dataframe tbody tr th:only-of-type {\n",
       "        vertical-align: middle;\n",
       "    }\n",
       "\n",
       "    .dataframe tbody tr th {\n",
       "        vertical-align: top;\n",
       "    }\n",
       "\n",
       "    .dataframe thead th {\n",
       "        text-align: right;\n",
       "    }\n",
       "</style>\n",
       "<table border=\"1\" class=\"dataframe\">\n",
       "  <thead>\n",
       "    <tr style=\"text-align: right;\">\n",
       "      <th></th>\n",
       "      <th>Id</th>\n",
       "      <th>Response</th>\n",
       "    </tr>\n",
       "  </thead>\n",
       "  <tbody>\n",
       "    <tr>\n",
       "      <th>0</th>\n",
       "      <td>1</td>\n",
       "      <td>0.0</td>\n",
       "    </tr>\n",
       "    <tr>\n",
       "      <th>1</th>\n",
       "      <td>3</td>\n",
       "      <td>0.0</td>\n",
       "    </tr>\n",
       "    <tr>\n",
       "      <th>2</th>\n",
       "      <td>4</td>\n",
       "      <td>0.0</td>\n",
       "    </tr>\n",
       "    <tr>\n",
       "      <th>3</th>\n",
       "      <td>9</td>\n",
       "      <td>1.0</td>\n",
       "    </tr>\n",
       "    <tr>\n",
       "      <th>4</th>\n",
       "      <td>12</td>\n",
       "      <td>0.0</td>\n",
       "    </tr>\n",
       "    <tr>\n",
       "      <th>...</th>\n",
       "      <td>...</td>\n",
       "      <td>...</td>\n",
       "    </tr>\n",
       "    <tr>\n",
       "      <th>19760</th>\n",
       "      <td>79093</td>\n",
       "      <td>0.0</td>\n",
       "    </tr>\n",
       "    <tr>\n",
       "      <th>19761</th>\n",
       "      <td>79099</td>\n",
       "      <td>1.0</td>\n",
       "    </tr>\n",
       "    <tr>\n",
       "      <th>19762</th>\n",
       "      <td>79102</td>\n",
       "      <td>0.0</td>\n",
       "    </tr>\n",
       "    <tr>\n",
       "      <th>19763</th>\n",
       "      <td>79125</td>\n",
       "      <td>0.0</td>\n",
       "    </tr>\n",
       "    <tr>\n",
       "      <th>19764</th>\n",
       "      <td>79129</td>\n",
       "      <td>0.0</td>\n",
       "    </tr>\n",
       "  </tbody>\n",
       "</table>\n",
       "<p>19765 rows × 2 columns</p>\n",
       "</div>"
      ],
      "text/plain": [
       "          Id  Response\n",
       "0          1       0.0\n",
       "1          3       0.0\n",
       "2          4       0.0\n",
       "3          9       1.0\n",
       "4         12       0.0\n",
       "...      ...       ...\n",
       "19760  79093       0.0\n",
       "19761  79099       1.0\n",
       "19762  79102       0.0\n",
       "19763  79125       0.0\n",
       "19764  79129       0.0\n",
       "\n",
       "[19765 rows x 2 columns]"
      ]
     },
     "execution_count": 94,
     "metadata": {},
     "output_type": "execute_result"
    }
   ],
   "source": [
    "sample_submission"
   ]
  }
 ],
 "metadata": {
  "colab": {
   "name": "project101.ipynb",
   "provenance": []
  },
  "language_info": {
   "codemirror_mode": {
    "name": "ipython",
    "version": 3
   },
   "file_extension": ".py",
   "mimetype": "text/x-python",
   "name": "python",
   "nbconvert_exporter": "python",
   "pygments_lexer": "ipython3",
   "version": "3.9.6"
  }
 },
 "nbformat": 4,
 "nbformat_minor": 1
}